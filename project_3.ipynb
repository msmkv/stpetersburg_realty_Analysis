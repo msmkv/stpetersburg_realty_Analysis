{
 "cells": [
  {
   "cell_type": "markdown",
   "metadata": {
    "pycharm": {
     "name": "#%% md\n"
    }
   },
   "source": [
    "# Исследование объявлений о продаже квартир\n",
    "\n",
    "Имеются данные сервиса Яндекс.Недвижимость — архив объявлений о продаже квартир в Санкт-Петербурге и соседних населённых пунктов за несколько лет.\n",
    "Задача — установить параметры объектов недвижимости. Это позволит построить автоматизированную систему: она отследит аномалии и мошенническую деятельность.\n",
    "\n",
    "По каждой квартире на продажу доступны два вида данных. Первые вписаны пользователем, вторые — получены автоматически на основе картографических данных. Например, расстояние до центра, аэропорта, ближайшего парка и водоёма."
   ]
  },
  {
   "cell_type": "code",
   "execution_count": 1,
   "metadata": {
    "pycharm": {
     "name": "#%%\n"
    }
   },
   "outputs": [],
   "source": [
    "import pandas as pd\n",
    "import seaborn\n",
    "import matplotlib.pyplot as plt"
   ]
  },
  {
   "cell_type": "code",
   "execution_count": 2,
   "metadata": {
    "pycharm": {
     "name": "#%%\n"
    }
   },
   "outputs": [
    {
     "name": "stdout",
     "output_type": "stream",
     "text": [
      "<class 'pandas.core.frame.DataFrame'>\n",
      "RangeIndex: 23699 entries, 0 to 23698\n",
      "Data columns (total 22 columns):\n",
      " #   Column                Non-Null Count  Dtype  \n",
      "---  ------                --------------  -----  \n",
      " 0   total_images          23699 non-null  int64  \n",
      " 1   last_price            23699 non-null  float64\n",
      " 2   total_area            23699 non-null  float64\n",
      " 3   first_day_exposition  23699 non-null  object \n",
      " 4   rooms                 23699 non-null  int64  \n",
      " 5   ceiling_height        14504 non-null  float64\n",
      " 6   floors_total          23613 non-null  float64\n",
      " 7   living_area           21796 non-null  float64\n",
      " 8   floor                 23699 non-null  int64  \n",
      " 9   is_apartment          2775 non-null   object \n",
      " 10  studio                23699 non-null  bool   \n",
      " 11  open_plan             23699 non-null  bool   \n",
      " 12  kitchen_area          21421 non-null  float64\n",
      " 13  balcony               12180 non-null  float64\n",
      " 14  locality_name         23650 non-null  object \n",
      " 15  airports_nearest      18157 non-null  float64\n",
      " 16  cityCenters_nearest   18180 non-null  float64\n",
      " 17  parks_around3000      18181 non-null  float64\n",
      " 18  parks_nearest         8079 non-null   float64\n",
      " 19  ponds_around3000      18181 non-null  float64\n",
      " 20  ponds_nearest         9110 non-null   float64\n",
      " 21  days_exposition       20518 non-null  float64\n",
      "dtypes: bool(2), float64(14), int64(3), object(3)\n",
      "memory usage: 3.7+ MB\n"
     ]
    },
    {
     "data": {
      "text/plain": "   total_images  last_price  total_area first_day_exposition  rooms  \\\n0            20  13000000.0       108.0  2019-03-07T00:00:00      3   \n1             7   3350000.0        40.4  2018-12-04T00:00:00      1   \n2            10   5196000.0        56.0  2015-08-20T00:00:00      2   \n3             0  64900000.0       159.0  2015-07-24T00:00:00      3   \n4             2  10000000.0       100.0  2018-06-19T00:00:00      2   \n\n   ceiling_height  floors_total  living_area  floor is_apartment  ...  \\\n0            2.70          16.0         51.0      8          NaN  ...   \n1             NaN          11.0         18.6      1          NaN  ...   \n2             NaN           5.0         34.3      4          NaN  ...   \n3             NaN          14.0          NaN      9          NaN  ...   \n4            3.03          14.0         32.0     13          NaN  ...   \n\n   kitchen_area  balcony    locality_name  airports_nearest  \\\n0          25.0      NaN  Санкт-Петербург           18863.0   \n1          11.0      2.0   посёлок Шушары           12817.0   \n2           8.3      0.0  Санкт-Петербург           21741.0   \n3           NaN      0.0  Санкт-Петербург           28098.0   \n4          41.0      NaN  Санкт-Петербург           31856.0   \n\n  cityCenters_nearest  parks_around3000  parks_nearest  ponds_around3000  \\\n0             16028.0               1.0          482.0               2.0   \n1             18603.0               0.0            NaN               0.0   \n2             13933.0               1.0           90.0               2.0   \n3              6800.0               2.0           84.0               3.0   \n4              8098.0               2.0          112.0               1.0   \n\n   ponds_nearest  days_exposition  \n0          755.0              NaN  \n1            NaN             81.0  \n2          574.0            558.0  \n3          234.0            424.0  \n4           48.0            121.0  \n\n[5 rows x 22 columns]",
      "text/html": "<div>\n<style scoped>\n    .dataframe tbody tr th:only-of-type {\n        vertical-align: middle;\n    }\n\n    .dataframe tbody tr th {\n        vertical-align: top;\n    }\n\n    .dataframe thead th {\n        text-align: right;\n    }\n</style>\n<table border=\"1\" class=\"dataframe\">\n  <thead>\n    <tr style=\"text-align: right;\">\n      <th></th>\n      <th>total_images</th>\n      <th>last_price</th>\n      <th>total_area</th>\n      <th>first_day_exposition</th>\n      <th>rooms</th>\n      <th>ceiling_height</th>\n      <th>floors_total</th>\n      <th>living_area</th>\n      <th>floor</th>\n      <th>is_apartment</th>\n      <th>...</th>\n      <th>kitchen_area</th>\n      <th>balcony</th>\n      <th>locality_name</th>\n      <th>airports_nearest</th>\n      <th>cityCenters_nearest</th>\n      <th>parks_around3000</th>\n      <th>parks_nearest</th>\n      <th>ponds_around3000</th>\n      <th>ponds_nearest</th>\n      <th>days_exposition</th>\n    </tr>\n  </thead>\n  <tbody>\n    <tr>\n      <th>0</th>\n      <td>20</td>\n      <td>13000000.0</td>\n      <td>108.0</td>\n      <td>2019-03-07T00:00:00</td>\n      <td>3</td>\n      <td>2.70</td>\n      <td>16.0</td>\n      <td>51.0</td>\n      <td>8</td>\n      <td>NaN</td>\n      <td>...</td>\n      <td>25.0</td>\n      <td>NaN</td>\n      <td>Санкт-Петербург</td>\n      <td>18863.0</td>\n      <td>16028.0</td>\n      <td>1.0</td>\n      <td>482.0</td>\n      <td>2.0</td>\n      <td>755.0</td>\n      <td>NaN</td>\n    </tr>\n    <tr>\n      <th>1</th>\n      <td>7</td>\n      <td>3350000.0</td>\n      <td>40.4</td>\n      <td>2018-12-04T00:00:00</td>\n      <td>1</td>\n      <td>NaN</td>\n      <td>11.0</td>\n      <td>18.6</td>\n      <td>1</td>\n      <td>NaN</td>\n      <td>...</td>\n      <td>11.0</td>\n      <td>2.0</td>\n      <td>посёлок Шушары</td>\n      <td>12817.0</td>\n      <td>18603.0</td>\n      <td>0.0</td>\n      <td>NaN</td>\n      <td>0.0</td>\n      <td>NaN</td>\n      <td>81.0</td>\n    </tr>\n    <tr>\n      <th>2</th>\n      <td>10</td>\n      <td>5196000.0</td>\n      <td>56.0</td>\n      <td>2015-08-20T00:00:00</td>\n      <td>2</td>\n      <td>NaN</td>\n      <td>5.0</td>\n      <td>34.3</td>\n      <td>4</td>\n      <td>NaN</td>\n      <td>...</td>\n      <td>8.3</td>\n      <td>0.0</td>\n      <td>Санкт-Петербург</td>\n      <td>21741.0</td>\n      <td>13933.0</td>\n      <td>1.0</td>\n      <td>90.0</td>\n      <td>2.0</td>\n      <td>574.0</td>\n      <td>558.0</td>\n    </tr>\n    <tr>\n      <th>3</th>\n      <td>0</td>\n      <td>64900000.0</td>\n      <td>159.0</td>\n      <td>2015-07-24T00:00:00</td>\n      <td>3</td>\n      <td>NaN</td>\n      <td>14.0</td>\n      <td>NaN</td>\n      <td>9</td>\n      <td>NaN</td>\n      <td>...</td>\n      <td>NaN</td>\n      <td>0.0</td>\n      <td>Санкт-Петербург</td>\n      <td>28098.0</td>\n      <td>6800.0</td>\n      <td>2.0</td>\n      <td>84.0</td>\n      <td>3.0</td>\n      <td>234.0</td>\n      <td>424.0</td>\n    </tr>\n    <tr>\n      <th>4</th>\n      <td>2</td>\n      <td>10000000.0</td>\n      <td>100.0</td>\n      <td>2018-06-19T00:00:00</td>\n      <td>2</td>\n      <td>3.03</td>\n      <td>14.0</td>\n      <td>32.0</td>\n      <td>13</td>\n      <td>NaN</td>\n      <td>...</td>\n      <td>41.0</td>\n      <td>NaN</td>\n      <td>Санкт-Петербург</td>\n      <td>31856.0</td>\n      <td>8098.0</td>\n      <td>2.0</td>\n      <td>112.0</td>\n      <td>1.0</td>\n      <td>48.0</td>\n      <td>121.0</td>\n    </tr>\n  </tbody>\n</table>\n<p>5 rows × 22 columns</p>\n</div>"
     },
     "metadata": {},
     "output_type": "display_data"
    },
    {
     "name": "stdout",
     "output_type": "stream",
     "text": [
      "23699\n"
     ]
    }
   ],
   "source": [
    "try:\n",
    "    data = pd.read_csv('real_estate_data.csv', sep='\\t')\n",
    "except:\n",
    "    data = pd.read_csv('https://*******/real_estate_data.csv', sep='\\t')\n",
    "data.info()\n",
    "dataset_length = len(data)\n",
    "display(data.head())\n",
    "print(dataset_length)"
   ]
  },
  {
   "cell_type": "markdown",
   "metadata": {
    "pycharm": {
     "name": "#%% md\n"
    }
   },
   "source": [
    "В данном датасете 23699 строк, достаточно много пропусков, но, возможно не все пропуски необходимо устранять"
   ]
  },
  {
   "cell_type": "code",
   "execution_count": 3,
   "metadata": {
    "pycharm": {
     "name": "#%%\n"
    }
   },
   "outputs": [
    {
     "data": {
      "text/plain": "<Figure size 1296x1440 with 20 Axes>",
      "image/png": "[encoded data removed]"
     },
     "metadata": {},
     "output_type": "display_data"
    }
   ],
   "source": [
    "data.hist(figsize=(18, 20));"
   ]
  },
  {
   "cell_type": "markdown",
   "metadata": {
    "pycharm": {
     "name": "#%% md\n"
    }
   },
   "source": [
    "### Предобработка данных"
   ]
  },
  {
   "cell_type": "code",
   "execution_count": 4,
   "metadata": {
    "pycharm": {
     "name": "#%%\n"
    }
   },
   "outputs": [
    {
     "data": {
      "text/plain": "total_images                0\nlast_price                  0\ntotal_area                  0\nfirst_day_exposition        0\nrooms                       0\nceiling_height           9195\nfloors_total               86\nliving_area              1903\nfloor                       0\nis_apartment            20924\nstudio                      0\nopen_plan                   0\nkitchen_area             2278\nbalcony                 11519\nlocality_name              49\nairports_nearest         5542\ncityCenters_nearest      5519\nparks_around3000         5518\nparks_nearest           15620\nponds_around3000         5518\nponds_nearest           14589\ndays_exposition          3181\ndtype: int64"
     },
     "metadata": {},
     "output_type": "display_data"
    },
    {
     "name": "stdout",
     "output_type": "stream",
     "text": [
      "Дубликатов: 0\n"
     ]
    }
   ],
   "source": [
    "#подсчитаем количество пропусков и дубликатов\n",
    "display(data.isna().sum())\n",
    "print('Дубликатов:', data.duplicated().sum())"
   ]
  },
  {
   "cell_type": "markdown",
   "metadata": {
    "pycharm": {
     "name": "#%% md\n"
    }
   },
   "source": [
    "В данном датасете обнаружены пропуски в столбцах:\n",
    "   - ceiling_height\n",
    "   - floors_total\n",
    "   - living_area\n",
    "   - is_apartment\n",
    "   - kitchen_area\n",
    "   - balkony\n",
    "   - locality_name\n",
    "   - airports_nearest\n",
    "   - cityCenters_nearest\n",
    "   - parks_around3000\n",
    "   - parks_nearest\n",
    "   - ponds_around3000\n",
    "   - ponds_nearest\n",
    "   - days_exposition"
   ]
  },
  {
   "cell_type": "code",
   "execution_count": 5,
   "metadata": {
    "pycharm": {
     "name": "#%%\n"
    }
   },
   "outputs": [
    {
     "data": {
      "text/plain": "is_apartment            0.882906\nparks_nearest           0.659100\nponds_nearest           0.615596\nbalcony                 0.486054\nceiling_height          0.387991\nairports_nearest        0.233850\ncityCenters_nearest     0.232879\nponds_around3000        0.232837\nparks_around3000        0.232837\ndays_exposition         0.134225\nkitchen_area            0.096122\nliving_area             0.080299\nfloors_total            0.003629\nlocality_name           0.002068\ntotal_images            0.000000\nlast_price              0.000000\nstudio                  0.000000\nfloor                   0.000000\nrooms                   0.000000\nfirst_day_exposition    0.000000\ntotal_area              0.000000\nopen_plan               0.000000\ndtype: float64"
     },
     "execution_count": 5,
     "metadata": {},
     "output_type": "execute_result"
    }
   ],
   "source": [
    "data.isna().mean().sort_values(ascending = False)"
   ]
  },
  {
   "cell_type": "markdown",
   "metadata": {
    "pycharm": {
     "name": "#%% md\n"
    }
   },
   "source": [
    "Заменим пропуски:\n",
    " - в количестве балконов на \"0\", проверим\n",
    " - в столбце ceiling_height (высота потолков) на медианное значение (среднее значение искажают ошибки в данных, например высота потолков в 19м)\n",
    " - невозможно предсказать город, поэтому заменим пропуски на значение unknown\n",
    " - невозможно предсказать этажность домов, оставим пропуски (не будем заменять на 'unknown'), чтобы не мешать вычислениям в дальнейшем\n",
    " - жилую площадь и площадь кухни посчитаем исходя из медианного значения для квартир с таким же количеством комнат\n",
    " - в колонке 'kitchen_area' осталось еще 197 пустых значений - это все квартиры с нулевым количеством комнат (студии), там невозможно посчитать площадь кухни отдельно от жилой площади\n",
    " - столбцы с ...nearest и ...around оставим с пропусками\n",
    "\n"
   ]
  },
  {
   "cell_type": "code",
   "execution_count": 6,
   "metadata": {
    "pycharm": {
     "name": "#%%\n"
    }
   },
   "outputs": [
    {
     "data": {
      "text/plain": "total_images                0\nlast_price                  0\ntotal_area                  0\nfirst_day_exposition        0\nrooms                       0\nceiling_height              0\nfloors_total               86\nliving_area              1903\nfloor                       0\nis_apartment            20924\nstudio                      0\nopen_plan                   0\nkitchen_area             2278\nbalcony                     0\nlocality_name               0\nairports_nearest         5542\ncityCenters_nearest      5519\nparks_around3000         5518\nparks_nearest           15620\nponds_around3000         5518\nponds_nearest           14589\ndays_exposition          3181\ndtype: int64"
     },
     "execution_count": 6,
     "metadata": {},
     "output_type": "execute_result"
    }
   ],
   "source": [
    "data['balcony'] = data['balcony'].fillna(0)\n",
    "data['ceiling_height'] = data['ceiling_height'].fillna(data['ceiling_height'].median())\n",
    "data['locality_name']=data['locality_name'].fillna('unknown')\n",
    "\n",
    "data.isna().sum()"
   ]
  },
  {
   "cell_type": "code",
   "execution_count": 7,
   "metadata": {
    "pycharm": {
     "name": "#%%\n"
    }
   },
   "outputs": [
    {
     "data": {
      "text/plain": "total_images                0\nlast_price                  0\ntotal_area                  0\nfirst_day_exposition        0\nrooms                       0\nceiling_height              0\nfloors_total               86\nliving_area                 0\nfloor                       0\nis_apartment            20924\nstudio                      0\nopen_plan                   0\nkitchen_area              197\nbalcony                     0\nlocality_name               0\nairports_nearest         5542\ncityCenters_nearest      5519\nparks_around3000         5518\nparks_nearest           15620\nponds_around3000         5518\nponds_nearest           14589\ndays_exposition          3181\ndtype: int64"
     },
     "metadata": {},
     "output_type": "display_data"
    },
    {
     "data": {
      "text/plain": "       total_images  last_price  total_area first_day_exposition  rooms  \\\n144               1   2450000.0       27.00  2017-03-30T00:00:00      0   \n349               4   2320000.0       25.00  2017-09-27T00:00:00      0   \n440               8   2480000.0       27.11  2018-03-12T00:00:00      0   \n508               0   3375000.0       34.40  2017-03-28T00:00:00      0   \n608               2   1850000.0       25.00  2019-02-20T00:00:00      0   \n...             ...         ...         ...                  ...    ...   \n23210             7   3200000.0       26.00  2017-09-01T00:00:00      0   \n23442             0   2500000.0       27.70  2017-09-28T00:00:00      0   \n23554            15   3350000.0       26.00  2018-09-07T00:00:00      0   \n23592            10   1450000.0       29.00  2017-11-11T00:00:00      0   \n23637             8   2350000.0       26.00  2018-06-26T00:00:00      0   \n\n       ceiling_height  floors_total  living_area  floor is_apartment  ...  \\\n144              2.65          24.0        15.50      2          NaN  ...   \n349              2.65          14.0        17.00      1          NaN  ...   \n440              2.65          17.0        24.75      4          NaN  ...   \n508              2.65          26.0        24.30     19          NaN  ...   \n608              2.65          10.0        18.00      7          NaN  ...   \n...               ...           ...          ...    ...          ...  ...   \n23210            2.65          25.0        18.00     16          NaN  ...   \n23442            2.65          24.0        18.00      4          NaN  ...   \n23554            2.65          19.0        18.00      8          NaN  ...   \n23592            2.65           9.0        18.00      8          NaN  ...   \n23637            2.65          25.0        17.00      4          NaN  ...   \n\n       kitchen_area  balcony      locality_name  airports_nearest  \\\n144             NaN      2.0     посёлок Мурино               NaN   \n349             NaN      0.0    деревня Кудрово               NaN   \n440             NaN      2.0    Санкт-Петербург           38171.0   \n508             NaN      1.0  посёлок Парголово           53115.0   \n608             NaN      0.0     посёлок Шушары               NaN   \n...             ...      ...                ...               ...   \n23210           NaN      0.0    Санкт-Петербург           11405.0   \n23442           NaN      2.0     посёлок Мурино               NaN   \n23554           NaN      0.0    Санкт-Петербург           18090.0   \n23592           NaN      2.0         Никольское               NaN   \n23637           NaN      2.0      посёлок Бугры               NaN   \n\n      cityCenters_nearest  parks_around3000  parks_nearest  ponds_around3000  \\\n144                   NaN               NaN            NaN               NaN   \n349                   NaN               NaN            NaN               NaN   \n440               15015.0               0.0            NaN               2.0   \n508               19292.0               0.0            NaN               1.0   \n608                   NaN               NaN            NaN               NaN   \n...                   ...               ...            ...               ...   \n23210             13222.0               0.0            NaN               1.0   \n23442                 NaN               NaN            NaN               NaN   \n23554             17092.0               0.0            NaN               2.0   \n23592                 NaN               NaN            NaN               NaN   \n23637                 NaN               NaN            NaN               NaN   \n\n       ponds_nearest  days_exposition  \n144              NaN            181.0  \n349              NaN             45.0  \n440            982.0             64.0  \n508            593.0            430.0  \n608              NaN             29.0  \n...              ...              ...  \n23210          623.0             14.0  \n23442            NaN              4.0  \n23554          112.0             31.0  \n23592            NaN             82.0  \n23637            NaN            207.0  \n\n[197 rows x 22 columns]",
      "text/html": "<div>\n<style scoped>\n    .dataframe tbody tr th:only-of-type {\n        vertical-align: middle;\n    }\n\n    .dataframe tbody tr th {\n        vertical-align: top;\n    }\n\n    .dataframe thead th {\n        text-align: right;\n    }\n</style>\n<table border=\"1\" class=\"dataframe\">\n  <thead>\n    <tr style=\"text-align: right;\">\n      <th></th>\n      <th>total_images</th>\n      <th>last_price</th>\n      <th>total_area</th>\n      <th>first_day_exposition</th>\n      <th>rooms</th>\n      <th>ceiling_height</th>\n      <th>floors_total</th>\n      <th>living_area</th>\n      <th>floor</th>\n      <th>is_apartment</th>\n      <th>...</th>\n      <th>kitchen_area</th>\n      <th>balcony</th>\n      <th>locality_name</th>\n      <th>airports_nearest</th>\n      <th>cityCenters_nearest</th>\n      <th>parks_around3000</th>\n      <th>parks_nearest</th>\n      <th>ponds_around3000</th>\n      <th>ponds_nearest</th>\n      <th>days_exposition</th>\n    </tr>\n  </thead>\n  <tbody>\n    <tr>\n      <th>144</th>\n      <td>1</td>\n      <td>2450000.0</td>\n      <td>27.00</td>\n      <td>2017-03-30T00:00:00</td>\n      <td>0</td>\n      <td>2.65</td>\n      <td>24.0</td>\n      <td>15.50</td>\n      <td>2</td>\n      <td>NaN</td>\n      <td>...</td>\n      <td>NaN</td>\n      <td>2.0</td>\n      <td>посёлок Мурино</td>\n      <td>NaN</td>\n      <td>NaN</td>\n      <td>NaN</td>\n      <td>NaN</td>\n      <td>NaN</td>\n      <td>NaN</td>\n      <td>181.0</td>\n    </tr>\n    <tr>\n      <th>349</th>\n      <td>4</td>\n      <td>2320000.0</td>\n      <td>25.00</td>\n      <td>2017-09-27T00:00:00</td>\n      <td>0</td>\n      <td>2.65</td>\n      <td>14.0</td>\n      <td>17.00</td>\n      <td>1</td>\n      <td>NaN</td>\n      <td>...</td>\n      <td>NaN</td>\n      <td>0.0</td>\n      <td>деревня Кудрово</td>\n      <td>NaN</td>\n      <td>NaN</td>\n      <td>NaN</td>\n      <td>NaN</td>\n      <td>NaN</td>\n      <td>NaN</td>\n      <td>45.0</td>\n    </tr>\n    <tr>\n      <th>440</th>\n      <td>8</td>\n      <td>2480000.0</td>\n      <td>27.11</td>\n      <td>2018-03-12T00:00:00</td>\n      <td>0</td>\n      <td>2.65</td>\n      <td>17.0</td>\n      <td>24.75</td>\n      <td>4</td>\n      <td>NaN</td>\n      <td>...</td>\n      <td>NaN</td>\n      <td>2.0</td>\n      <td>Санкт-Петербург</td>\n      <td>38171.0</td>\n      <td>15015.0</td>\n      <td>0.0</td>\n      <td>NaN</td>\n      <td>2.0</td>\n      <td>982.0</td>\n      <td>64.0</td>\n    </tr>\n    <tr>\n      <th>508</th>\n      <td>0</td>\n      <td>3375000.0</td>\n      <td>34.40</td>\n      <td>2017-03-28T00:00:00</td>\n      <td>0</td>\n      <td>2.65</td>\n      <td>26.0</td>\n      <td>24.30</td>\n      <td>19</td>\n      <td>NaN</td>\n      <td>...</td>\n      <td>NaN</td>\n      <td>1.0</td>\n      <td>посёлок Парголово</td>\n      <td>53115.0</td>\n      <td>19292.0</td>\n      <td>0.0</td>\n      <td>NaN</td>\n      <td>1.0</td>\n      <td>593.0</td>\n      <td>430.0</td>\n    </tr>\n    <tr>\n      <th>608</th>\n      <td>2</td>\n      <td>1850000.0</td>\n      <td>25.00</td>\n      <td>2019-02-20T00:00:00</td>\n      <td>0</td>\n      <td>2.65</td>\n      <td>10.0</td>\n      <td>18.00</td>\n      <td>7</td>\n      <td>NaN</td>\n      <td>...</td>\n      <td>NaN</td>\n      <td>0.0</td>\n      <td>посёлок Шушары</td>\n      <td>NaN</td>\n      <td>NaN</td>\n      <td>NaN</td>\n      <td>NaN</td>\n      <td>NaN</td>\n      <td>NaN</td>\n      <td>29.0</td>\n    </tr>\n    <tr>\n      <th>...</th>\n      <td>...</td>\n      <td>...</td>\n      <td>...</td>\n      <td>...</td>\n      <td>...</td>\n      <td>...</td>\n      <td>...</td>\n      <td>...</td>\n      <td>...</td>\n      <td>...</td>\n      <td>...</td>\n      <td>...</td>\n      <td>...</td>\n      <td>...</td>\n      <td>...</td>\n      <td>...</td>\n      <td>...</td>\n      <td>...</td>\n      <td>...</td>\n      <td>...</td>\n      <td>...</td>\n    </tr>\n    <tr>\n      <th>23210</th>\n      <td>7</td>\n      <td>3200000.0</td>\n      <td>26.00</td>\n      <td>2017-09-01T00:00:00</td>\n      <td>0</td>\n      <td>2.65</td>\n      <td>25.0</td>\n      <td>18.00</td>\n      <td>16</td>\n      <td>NaN</td>\n      <td>...</td>\n      <td>NaN</td>\n      <td>0.0</td>\n      <td>Санкт-Петербург</td>\n      <td>11405.0</td>\n      <td>13222.0</td>\n      <td>0.0</td>\n      <td>NaN</td>\n      <td>1.0</td>\n      <td>623.0</td>\n      <td>14.0</td>\n    </tr>\n    <tr>\n      <th>23442</th>\n      <td>0</td>\n      <td>2500000.0</td>\n      <td>27.70</td>\n      <td>2017-09-28T00:00:00</td>\n      <td>0</td>\n      <td>2.65</td>\n      <td>24.0</td>\n      <td>18.00</td>\n      <td>4</td>\n      <td>NaN</td>\n      <td>...</td>\n      <td>NaN</td>\n      <td>2.0</td>\n      <td>посёлок Мурино</td>\n      <td>NaN</td>\n      <td>NaN</td>\n      <td>NaN</td>\n      <td>NaN</td>\n      <td>NaN</td>\n      <td>NaN</td>\n      <td>4.0</td>\n    </tr>\n    <tr>\n      <th>23554</th>\n      <td>15</td>\n      <td>3350000.0</td>\n      <td>26.00</td>\n      <td>2018-09-07T00:00:00</td>\n      <td>0</td>\n      <td>2.65</td>\n      <td>19.0</td>\n      <td>18.00</td>\n      <td>8</td>\n      <td>NaN</td>\n      <td>...</td>\n      <td>NaN</td>\n      <td>0.0</td>\n      <td>Санкт-Петербург</td>\n      <td>18090.0</td>\n      <td>17092.0</td>\n      <td>0.0</td>\n      <td>NaN</td>\n      <td>2.0</td>\n      <td>112.0</td>\n      <td>31.0</td>\n    </tr>\n    <tr>\n      <th>23592</th>\n      <td>10</td>\n      <td>1450000.0</td>\n      <td>29.00</td>\n      <td>2017-11-11T00:00:00</td>\n      <td>0</td>\n      <td>2.65</td>\n      <td>9.0</td>\n      <td>18.00</td>\n      <td>8</td>\n      <td>NaN</td>\n      <td>...</td>\n      <td>NaN</td>\n      <td>2.0</td>\n      <td>Никольское</td>\n      <td>NaN</td>\n      <td>NaN</td>\n      <td>NaN</td>\n      <td>NaN</td>\n      <td>NaN</td>\n      <td>NaN</td>\n      <td>82.0</td>\n    </tr>\n    <tr>\n      <th>23637</th>\n      <td>8</td>\n      <td>2350000.0</td>\n      <td>26.00</td>\n      <td>2018-06-26T00:00:00</td>\n      <td>0</td>\n      <td>2.65</td>\n      <td>25.0</td>\n      <td>17.00</td>\n      <td>4</td>\n      <td>NaN</td>\n      <td>...</td>\n      <td>NaN</td>\n      <td>2.0</td>\n      <td>посёлок Бугры</td>\n      <td>NaN</td>\n      <td>NaN</td>\n      <td>NaN</td>\n      <td>NaN</td>\n      <td>NaN</td>\n      <td>NaN</td>\n      <td>207.0</td>\n    </tr>\n  </tbody>\n</table>\n<p>197 rows × 22 columns</p>\n</div>"
     },
     "metadata": {},
     "output_type": "display_data"
    }
   ],
   "source": [
    "for area in ['living_area', 'kitchen_area']:\n",
    "    for item in data['rooms'].unique():\n",
    "        data.loc[(data['rooms'] == item) & (data[area].isna()), area] = \\\n",
    "            data.loc[data['rooms'] == item, area].median()\n",
    "\n",
    "display(data.isna().sum())\n",
    "#проверим, какие значения остались в пропусках kitchen_area\n",
    "display(data.loc[data['kitchen_area'].isna()])\n",
    "data['kitchen_area'] = data['kitchen_area'].fillna(0)"
   ]
  },
  {
   "cell_type": "markdown",
   "metadata": {
    "pycharm": {
     "name": "#%% md\n"
    }
   },
   "source": [
    "К пропускам данных в этих колонках мог привести человеческий фактор, например поля могли быть не заполнены человеком, добавляющим объект недвижимости. Также существуют случайные пропуски, такие как площадь кухни в квартире с нулем комнат, такие пропуски зависят от значений другого столбца.\n",
    "\n"
   ]
  },
  {
   "cell_type": "markdown",
   "metadata": {
    "pycharm": {
     "name": "#%% md\n"
    }
   },
   "source": [
    "Преобразуем колонку 'is_apartment' в тип boolean, вместо object, а также количество балконов (колонка balkony) в целочисленный тип int64"
   ]
  },
  {
   "cell_type": "code",
   "execution_count": 8,
   "metadata": {
    "pycharm": {
     "name": "#%%\n"
    }
   },
   "outputs": [
    {
     "name": "stdout",
     "output_type": "stream",
     "text": [
      "<class 'pandas.core.frame.DataFrame'>\n",
      "RangeIndex: 23699 entries, 0 to 23698\n",
      "Data columns (total 22 columns):\n",
      " #   Column                Non-Null Count  Dtype  \n",
      "---  ------                --------------  -----  \n",
      " 0   total_images          23699 non-null  int64  \n",
      " 1   last_price            23699 non-null  float64\n",
      " 2   total_area            23699 non-null  float64\n",
      " 3   first_day_exposition  23699 non-null  object \n",
      " 4   rooms                 23699 non-null  int64  \n",
      " 5   ceiling_height        23699 non-null  float64\n",
      " 6   floors_total          23613 non-null  float64\n",
      " 7   living_area           23699 non-null  float64\n",
      " 8   floor                 23699 non-null  int64  \n",
      " 9   is_apartment          23699 non-null  bool   \n",
      " 10  studio                23699 non-null  bool   \n",
      " 11  open_plan             23699 non-null  bool   \n",
      " 12  kitchen_area          23699 non-null  float64\n",
      " 13  balcony               23699 non-null  int64  \n",
      " 14  locality_name         23699 non-null  object \n",
      " 15  airports_nearest      18157 non-null  float64\n",
      " 16  cityCenters_nearest   18180 non-null  float64\n",
      " 17  parks_around3000      18181 non-null  float64\n",
      " 18  parks_nearest         8079 non-null   float64\n",
      " 19  ponds_around3000      18181 non-null  float64\n",
      " 20  ponds_nearest         9110 non-null   float64\n",
      " 21  days_exposition       20518 non-null  float64\n",
      "dtypes: bool(3), float64(13), int64(4), object(2)\n",
      "memory usage: 3.5+ MB\n"
     ]
    }
   ],
   "source": [
    "data['is_apartment'] = data['is_apartment'].astype('bool')\n",
    "data['balcony'] = data['balcony'].astype('int64')\n",
    "data.info()"
   ]
  },
  {
   "cell_type": "code",
   "execution_count": 9,
   "metadata": {
    "pycharm": {
     "name": "#%%\n"
    }
   },
   "outputs": [
    {
     "data": {
      "text/plain": "['unknown',\n 'Бокситогорск',\n 'Волосово',\n 'Волхов',\n 'Всеволожск',\n 'Выборг',\n 'Высоцк',\n 'Гатчина',\n 'Зеленогорск',\n 'Ивангород',\n 'Каменногорск',\n 'Кингисепп',\n 'Кириши',\n 'Кировск',\n 'Колпино',\n 'Коммунар',\n 'Красное Село',\n 'Кронштадт',\n 'Кудрово',\n 'Лодейное Поле',\n 'Ломоносов',\n 'Луга',\n 'Любань',\n 'Мурино',\n 'Никольское',\n 'Новая Ладога',\n 'Отрадное',\n 'Павловск',\n 'Петергоф',\n 'Пикалёво',\n 'Подпорожье',\n 'Приморск',\n 'Приозерск',\n 'Пушкин',\n 'Санкт-Петербург',\n 'Светогорск',\n 'Сертолово',\n 'Сестрорецк',\n 'Сланцы',\n 'Сосновый Бор',\n 'Сясьстрой',\n 'Тихвин',\n 'Тосно',\n 'Шлиссельбург',\n 'городской поселок Большая Ижора',\n 'городской поселок Янино-1',\n 'городской посёлок Будогощь',\n 'городской посёлок Виллози',\n 'городской посёлок Лесогорский',\n 'городской посёлок Мга',\n 'городской посёлок Назия',\n 'городской посёлок Новоселье',\n 'городской посёлок Павлово',\n 'городской посёлок Рощино',\n 'городской посёлок Свирьстрой',\n 'городской посёлок Советский',\n 'городской посёлок Фёдоровское',\n 'городской посёлок Янино-1',\n 'деревня Агалатово',\n 'деревня Аро',\n 'деревня Батово',\n 'деревня Бегуницы',\n 'деревня Белогорка',\n 'деревня Большая Вруда',\n 'деревня Большая Пустомержа',\n 'деревня Большие Колпаны',\n 'деревня Большое Рейзино',\n 'деревня Большой Сабск',\n 'деревня Бор',\n 'деревня Борисова Грива',\n 'деревня Ваганово',\n 'деревня Вартемяги',\n 'деревня Вахнова Кара',\n 'деревня Выскатка',\n 'деревня Гарболово',\n 'деревня Глинка',\n 'деревня Горбунки',\n 'деревня Гостилицы',\n 'деревня Заклинье',\n 'деревня Заневка',\n 'деревня Зимитицы',\n 'деревня Извара',\n 'деревня Иссад',\n 'деревня Калитино',\n 'деревня Кальтино',\n 'деревня Камышовка',\n 'деревня Каськово',\n 'деревня Келози',\n 'деревня Кипень',\n 'деревня Кисельня',\n 'деревня Колтуши',\n 'деревня Коркино',\n 'деревня Котлы',\n 'деревня Кривко',\n 'деревня Кудрово',\n 'деревня Кузьмолово',\n 'деревня Курковицы',\n 'деревня Куровицы',\n 'деревня Куттузи',\n 'деревня Лаврики',\n 'деревня Лаголово',\n 'деревня Лампово',\n 'деревня Лесколово',\n 'деревня Лопухинка',\n 'деревня Лупполово',\n 'деревня Малая Романовка',\n 'деревня Малое Верево',\n 'деревня Малое Карлино',\n 'деревня Малые Колпаны',\n 'деревня Мануйлово',\n 'деревня Меньково',\n 'деревня Мины',\n 'деревня Мистолово',\n 'деревня Ненимяки',\n 'деревня Нижние Осельки',\n 'деревня Нижняя',\n 'деревня Низино',\n 'деревня Новое Девяткино',\n 'деревня Новолисино',\n 'деревня Нурма',\n 'деревня Оржицы',\n 'деревня Парицы',\n 'деревня Пельгора',\n 'деревня Пеники',\n 'деревня Пижма',\n 'деревня Пикколово',\n 'деревня Пудомяги',\n 'деревня Пустынка',\n 'деревня Пчева',\n 'деревня Рабитицы',\n 'деревня Разбегаево',\n 'деревня Раздолье',\n 'деревня Разметелево',\n 'деревня Рапполово',\n 'деревня Реброво',\n 'деревня Русско',\n 'деревня Сижно',\n 'деревня Снегирёвка',\n 'деревня Старая',\n 'деревня Старая Пустошь',\n 'деревня Старое Хинколово',\n 'деревня Старополье',\n 'деревня Старосиверская',\n 'деревня Старые Бегуницы',\n 'деревня Суоранда',\n 'деревня Сяськелево',\n 'деревня Тарасово',\n 'деревня Терпилицы',\n 'деревня Тихковицы',\n 'деревня Тойворово',\n 'деревня Торосово',\n 'деревня Торошковичи',\n 'деревня Трубников Бор',\n 'деревня Фалилеево',\n 'деревня Фёдоровское',\n 'деревня Хапо-Ое',\n 'деревня Хязельки',\n 'деревня Чудской Бор',\n 'деревня Шпаньково',\n 'деревня Щеглово',\n 'деревня Юкки',\n 'деревня Ялгино',\n 'деревня Яльгелево',\n 'деревня Ям-Тесово',\n 'коттеджный поселок Кивеннапа Север',\n 'коттеджный поселок Счастье',\n 'коттеджный посёлок Лесное',\n 'поселок Аннино',\n 'поселок Барышево',\n 'поселок Бугры',\n 'поселок Возрождение',\n 'поселок Войсковицы',\n 'поселок Володарское',\n 'поселок Гаврилово',\n 'поселок Гарболово',\n 'поселок Гладкое',\n 'поселок Глажево',\n 'поселок Глебычево',\n 'поселок Гончарово',\n 'поселок Громово',\n 'поселок Дружноселье',\n 'поселок Елизаветино',\n 'поселок Жилгородок',\n 'поселок Жилпосёлок',\n 'поселок Житково',\n 'поселок Заводской',\n 'поселок Запорожское',\n 'поселок Зимитицы',\n 'поселок Ильичёво',\n 'поселок Калитино',\n 'поселок Каложицы',\n 'поселок Кингисеппский',\n 'поселок Кирпичное',\n 'поселок Кобралово',\n 'поселок Кобринское',\n 'поселок Коммунары',\n 'поселок Коробицыно',\n 'поселок Котельский',\n 'поселок Красная Долина',\n 'поселок Красносельское',\n 'поселок Лесное',\n 'поселок Лисий Нос',\n 'поселок Лукаши',\n 'поселок Любань',\n 'поселок Мельниково',\n 'поселок Мичуринское',\n 'поселок Молодцово',\n 'поселок Мурино',\n 'поселок Новый Свет',\n 'поселок Новый Учхоз',\n 'поселок Оредеж',\n 'поселок Пансионат Зелёный Бор',\n 'поселок Первомайское',\n 'поселок Перово',\n 'поселок Петровское',\n 'поселок Победа',\n 'поселок Поляны',\n 'поселок Почап',\n 'поселок Починок',\n 'поселок Пушное',\n 'поселок Пчевжа',\n 'поселок Рабитицы',\n 'поселок Романовка',\n 'поселок Ромашки',\n 'поселок Рябово',\n 'поселок Севастьяново',\n 'поселок Селезнёво',\n 'поселок Сельцо',\n 'поселок Семиозерье',\n 'поселок Семрино',\n 'поселок Серебрянский',\n 'поселок Совхозный',\n 'поселок Старая Малукса',\n 'поселок Стеклянный',\n 'поселок Сумино',\n 'поселок Суходолье',\n 'поселок Тельмана',\n 'поселок Терволово',\n 'поселок Торковичи',\n 'поселок Тёсово-4',\n 'поселок Углово',\n 'поселок Усть-Луга',\n 'поселок Ушаки',\n 'поселок Цвелодубово',\n 'поселок Цвылёво',\n 'поселок городского типа Большая Ижора',\n 'поселок городского типа Вырица',\n 'поселок городского типа Дружная Горка',\n 'поселок городского типа Дубровка',\n 'поселок городского типа Ефимовский',\n 'поселок городского типа Кондратьево',\n 'поселок городского типа Красный Бор',\n 'поселок городского типа Кузьмоловский',\n 'поселок городского типа Лебяжье',\n 'поселок городского типа Лесогорский',\n 'поселок городского типа Назия',\n 'поселок городского типа Никольский',\n 'поселок городского типа Приладожский',\n 'поселок городского типа Рахья',\n 'поселок городского типа Рощино',\n 'поселок городского типа Рябово',\n 'поселок городского типа Синявино',\n 'поселок городского типа Советский',\n 'поселок городского типа Токсово',\n 'поселок городского типа Форносово',\n 'поселок городского типа имени Свердлова',\n 'поселок станции Вещево',\n 'поселок станции Корнево',\n 'поселок станции Лужайка',\n 'поселок станции Приветнинское',\n 'посёлок Александровская',\n 'посёлок Алексеевка',\n 'посёлок Аннино',\n 'посёлок Белоостров',\n 'посёлок Бугры',\n 'посёлок Возрождение',\n 'посёлок Войскорово',\n 'посёлок Высокоключевой',\n 'посёлок Гаврилово',\n 'посёлок Дзержинского',\n 'посёлок Жилгородок',\n 'посёлок Ильичёво',\n 'посёлок Кикерино',\n 'посёлок Кобралово',\n 'посёлок Коробицыно',\n 'посёлок Левашово',\n 'посёлок Ленинское',\n 'посёлок Лисий Нос',\n 'посёлок Мельниково',\n 'посёлок Металлострой',\n 'посёлок Мичуринское',\n 'посёлок Молодёжное',\n 'посёлок Мурино',\n 'посёлок Мыза-Ивановка',\n 'посёлок Новогорелово',\n 'посёлок Новый Свет',\n 'посёлок Пансионат Зелёный Бор',\n 'посёлок Парголово',\n 'посёлок Перово',\n 'посёлок Песочный',\n 'посёлок Петро-Славянка',\n 'посёлок Петровское',\n 'посёлок Платформа 69-й километр',\n 'посёлок Плодовое',\n 'посёлок Плоское',\n 'посёлок Победа',\n 'посёлок Поляны',\n 'посёлок Понтонный',\n 'посёлок Пригородный',\n 'посёлок Пудость',\n 'посёлок Репино',\n 'посёлок Ропша',\n 'посёлок Сапёрное',\n 'посёлок Сапёрный',\n 'посёлок Сосново',\n 'посёлок Старая Малукса',\n 'посёлок Стеклянный',\n 'посёлок Стрельна',\n 'посёлок Суйда',\n 'посёлок Сумино',\n 'посёлок Тельмана',\n 'посёлок Терволово',\n 'посёлок Торфяное',\n 'посёлок Усть-Ижора',\n 'посёлок Усть-Луга',\n 'посёлок Форт Красная Горка',\n 'посёлок Шугозеро',\n 'посёлок Шушары',\n 'посёлок Щеглово',\n 'посёлок городского типа Важины',\n 'посёлок городского типа Вознесенье',\n 'посёлок городского типа Вырица',\n 'посёлок городского типа Красный Бор',\n 'посёлок городского типа Кузнечное',\n 'посёлок городского типа Кузьмоловский',\n 'посёлок городского типа Лебяжье',\n 'посёлок городского типа Мга',\n 'посёлок городского типа Павлово',\n 'посёлок городского типа Рощино',\n 'посёлок городского типа Рябово',\n 'посёлок городского типа Сиверский',\n 'посёлок городского типа Тайцы',\n 'посёлок городского типа Токсово',\n 'посёлок городского типа Ульяновка',\n 'посёлок городского типа Форносово',\n 'посёлок городского типа имени Морозова',\n 'посёлок городского типа имени Свердлова',\n 'посёлок при железнодорожной станции Вещево',\n 'посёлок при железнодорожной станции Приветнинское',\n 'посёлок станции Громово',\n 'посёлок станции Свирь',\n 'садоводческое некоммерческое товарищество Лесная Поляна',\n 'садовое товарищество Новая Ропша',\n 'садовое товарищество Приладожский',\n 'садовое товарищество Рахья',\n 'садовое товарищество Садко',\n 'село Копорье',\n 'село Никольское',\n 'село Павлово',\n 'село Паша',\n 'село Путилово',\n 'село Рождествено',\n 'село Русско-Высоцкое',\n 'село Старая Ладога',\n 'село Шум']"
     },
     "metadata": {},
     "output_type": "display_data"
    }
   ],
   "source": [
    "display(sorted(data['locality_name'].unique()))"
   ]
  },
  {
   "cell_type": "code",
   "execution_count": 10,
   "metadata": {
    "pycharm": {
     "name": "#%%\n"
    }
   },
   "outputs": [
    {
     "data": {
      "text/plain": "['unknown',\n 'агалатово',\n 'александровская',\n 'алексеевка',\n 'аннино',\n 'аро',\n 'барышево',\n 'батово',\n 'бегуницы',\n 'белогорка',\n 'белоостров',\n 'бокситогорск',\n 'большая вруда',\n 'большая ижора',\n 'большая пустомержа',\n 'большие колпаны',\n 'большое рейзино',\n 'большой сабск',\n 'бор',\n 'борисова грива',\n 'бугры',\n 'будогощь',\n 'ваганово',\n 'важины',\n 'вартемяги',\n 'вахнова кара',\n 'вещево',\n 'виллози',\n 'вознесенье',\n 'возрождение',\n 'войсковицы',\n 'войскорово',\n 'володарское',\n 'волосово',\n 'волхов',\n 'всеволожск',\n 'выборг',\n 'вырица',\n 'выскатка',\n 'высокоключевой',\n 'высоцк',\n 'гаврилово',\n 'гарболово',\n 'гатчина',\n 'гладкое',\n 'глажево',\n 'глебычево',\n 'глинка',\n 'гончарово',\n 'горбунки',\n 'гостилицы',\n 'громово',\n 'дзержинского',\n 'дружная горка',\n 'дружноселье',\n 'дубровка',\n 'елизаветино',\n 'ефимовский',\n 'жил',\n 'жилгородок',\n 'житково',\n 'заводской',\n 'заклинье',\n 'заневка',\n 'запорожское',\n 'зеленогорск',\n 'зимитицы',\n 'ивангород',\n 'извара',\n 'ильичево',\n 'имени морозова',\n 'имени свердлова',\n 'иссад',\n 'калитино',\n 'каложицы',\n 'кальтино',\n 'каменногорск',\n 'камышовка',\n 'каськово',\n 'келози',\n 'кивеннапа север',\n 'кикерино',\n 'кингисепп',\n 'кингисеппский',\n 'кипень',\n 'кириши',\n 'кировск',\n 'кирпичное',\n 'кисельня',\n 'кобралово',\n 'кобринское',\n 'колпино',\n 'колтуши',\n 'коммунар',\n 'коммунары',\n 'кондратьево',\n 'копорье',\n 'коркино',\n 'корнево',\n 'коробицыно',\n 'котельский',\n 'котлы',\n 'красная долина',\n 'красное ',\n 'красносельское',\n 'красный бор',\n 'кривко',\n 'кронштадт',\n 'кудрово',\n 'кузнечное',\n 'кузьмолово',\n 'кузьмоловский',\n 'курковицы',\n 'куровицы',\n 'куттузи',\n 'лаврики',\n 'лаголово',\n 'лампово',\n 'лебяжье',\n 'левашово',\n 'ленинское',\n 'лесколово',\n 'лесная поляна',\n 'лесное',\n 'лесогорский',\n 'лисий нос',\n 'лодейное поле',\n 'ломоносов',\n 'лопухинка',\n 'луга',\n 'лужайка',\n 'лукаши',\n 'лупполово',\n 'любань',\n 'малая романовка',\n 'малое верево',\n 'малое карлино',\n 'малые колпаны',\n 'мануйлово',\n 'мга',\n 'мельниково',\n 'меньково',\n 'металлострой',\n 'мины',\n 'мистолово',\n 'мичуринское',\n 'молодежное',\n 'молодцово',\n 'мурино',\n 'мыза-ивановка',\n 'назия',\n 'ненимяки',\n 'нижние осельки',\n 'нижняя',\n 'низино',\n 'никольский',\n 'никольское',\n 'новая ладога',\n 'новая ропша',\n 'новогорелово',\n 'новое девяткино',\n 'новолисино',\n 'новоселье',\n 'новый свет',\n 'новый учхоз',\n 'нурма',\n 'оредеж',\n 'оржицы',\n 'отрадное',\n 'павлово',\n 'павловск',\n 'пансионат зеленый бор',\n 'парголово',\n 'парицы',\n 'паша',\n 'пельгора',\n 'пеники',\n 'первомайское',\n 'перово',\n 'песочный',\n 'петергоф',\n 'петро-славянка',\n 'петровское',\n 'пижма',\n 'пикалево',\n 'пикколово',\n 'платформа 69-й километр',\n 'плодовое',\n 'плоское',\n 'победа',\n 'подпорожье',\n 'поляны',\n 'понтонный',\n 'почап',\n 'починок',\n 'при железнодорожной станции вещево',\n 'при железнодорожной станции приветнинское',\n 'приветнинское',\n 'пригородный',\n 'приладожский',\n 'приморск',\n 'приозерск',\n 'пудомяги',\n 'пудость',\n 'пустынка',\n 'путилово',\n 'пушкин',\n 'пушное',\n 'пчева',\n 'пчевжа',\n 'рабитицы',\n 'разбегаево',\n 'раздолье',\n 'разметелево',\n 'рапполово',\n 'рахья',\n 'реброво',\n 'репино',\n 'рождествено',\n 'романовка',\n 'ромашки',\n 'ропша',\n 'рощино',\n 'русско',\n 'русско-высоцкое',\n 'рябово',\n 'садко',\n 'санкт-петербург',\n 'саперное',\n 'саперный',\n 'светогорск',\n 'свирь',\n 'свирьстрой',\n 'севастьяново',\n 'селезнево',\n 'сельцо',\n 'семиозерье',\n 'семрино',\n 'серебрянский',\n 'сертолово',\n 'сестрорецк',\n 'сиверский',\n 'сижно',\n 'синявино',\n 'сланцы',\n 'снегиревка',\n 'советский',\n 'совхозный',\n 'сосново',\n 'сосновый бор',\n 'старая',\n 'старая ладога',\n 'старая малукса',\n 'старая пустошь',\n 'старое хинколово',\n 'старополье',\n 'старосиверская',\n 'старые бегуницы',\n 'стеклянный',\n 'стрельна',\n 'суйда',\n 'сумино',\n 'суоранда',\n 'суходолье',\n 'счастье',\n 'сяськелево',\n 'сясьстрой',\n 'тайцы',\n 'тарасово',\n 'тельмана',\n 'терволово',\n 'терпилицы',\n 'тесово-4',\n 'тихвин',\n 'тихковицы',\n 'тойворово',\n 'токсово',\n 'торковичи',\n 'торосово',\n 'торошковичи',\n 'торфяное',\n 'тосно',\n 'трубников бор',\n 'углово',\n 'ульяновка',\n 'усть-ижора',\n 'усть-луга',\n 'ушаки',\n 'фалилеево',\n 'федоровское',\n 'форносово',\n 'форт красная горка',\n 'хапо-ое',\n 'хязельки',\n 'цвелодубово',\n 'цвылево',\n 'чудской бор',\n 'шлиссельбург',\n 'шпаньково',\n 'шугозеро',\n 'шум',\n 'шушары',\n 'щеглово',\n 'юкки',\n 'ялгино',\n 'яльгелево',\n 'ям-тесово',\n 'янино-1']"
     },
     "metadata": {},
     "output_type": "display_data"
    }
   ],
   "source": [
    "data['locality_name_filtered'] = data['locality_name'].str.lower()\n",
    "data['locality_name_filtered'] = data['locality_name_filtered'].str.replace('ё', 'е', regex=True)\n",
    "for item in ['городской поселок', 'деревня', 'коттеджный поселок', 'поселок городского типа', 'поселок станции', 'садоводческое некоммерческое товарищество', 'садовое товарищество', 'поселок', 'село']:\n",
    "    data['locality_name_filtered'] = data['locality_name_filtered'].str.replace(item, '')\n",
    "data['locality_name_filtered'] = data['locality_name_filtered'].str.lstrip()\n",
    "\n",
    "display(sorted(data['locality_name_filtered'].unique()))"
   ]
  },
  {
   "cell_type": "code",
   "execution_count": 11,
   "metadata": {
    "pycharm": {
     "name": "#%%\n"
    }
   },
   "outputs": [
    {
     "data": {
      "text/plain": "count    23699.000000\nmean         2.724358\nstd          0.988298\nmin          1.000000\n25%          2.600000\n50%          2.650000\n75%          2.700000\nmax        100.000000\nName: ceiling_height, dtype: float64"
     },
     "metadata": {},
     "output_type": "display_data"
    },
    {
     "data": {
      "text/plain": "<Figure size 360x864 with 1 Axes>",
      "image/png": "[encoded data removed]"
     },
     "metadata": {},
     "output_type": "display_data"
    }
   ],
   "source": [
    "display (data['ceiling_height'].describe())\n",
    "# data['ceiling_height'].plot(kind='box' ,grid=True, figsize = (5, 12))\n",
    "data.loc[data['ceiling_height'] < 70,'ceiling_height'].plot(kind='box' ,grid=True, figsize = (5, 12));"
   ]
  },
  {
   "cell_type": "code",
   "execution_count": 12,
   "metadata": {
    "pycharm": {
     "name": "#%%\n"
    }
   },
   "outputs": [
    {
     "data": {
      "text/plain": "count    23699.000000\nmean         2.695912\nstd          0.215138\nmin          2.000000\n25%          2.600000\n50%          2.650000\n75%          2.700000\nmax          4.900000\nName: ceiling_height, dtype: float64"
     },
     "execution_count": 12,
     "metadata": {},
     "output_type": "execute_result"
    }
   ],
   "source": [
    "data.loc[(data['ceiling_height'] <= 1.9) | (data['ceiling_height'] >= 5) & (data['ceiling_height'] < 15) | (data['ceiling_height'] > 40), 'ceiling_height'] = data['ceiling_height'].median()\n",
    "data.loc[(data['ceiling_height'] >= 19) & (data['ceiling_height'] < 40), 'ceiling_height'] /= 10\n",
    "data['ceiling_height'].describe()\n"
   ]
  },
  {
   "cell_type": "markdown",
   "metadata": {
    "pycharm": {
     "name": "#%% md\n"
    }
   },
   "source": [
    "Изучив результаты describe и построив график можем убедиться, что медианная высота потолков - 2.65м, что выглядит убедительно, при этом есть масса значений около 20-30м, возможно это на самом деле высота потолков от 2.0 до 3.0 метров, также можем наблюдать явные ошибочные значения (высота потолков 1м, от 5 до 15м, выше 30 метров) необходимо очистить заведомо неправильные значения и исправить ошибочные"
   ]
  },
  {
   "cell_type": "code",
   "execution_count": 13,
   "metadata": {
    "pycharm": {
     "name": "#%%\n"
    }
   },
   "outputs": [
    {
     "data": {
      "text/plain": "total_images                  0\nlast_price                    0\ntotal_area                    0\nfirst_day_exposition          0\nrooms                         0\nceiling_height                0\nfloors_total                 86\nliving_area                   0\nfloor                         0\nis_apartment                  0\nstudio                        0\nopen_plan                     0\nkitchen_area                  0\nbalcony                       0\nlocality_name                 0\nairports_nearest           5542\ncityCenters_nearest        5519\nparks_around3000           5518\nparks_nearest             15620\nponds_around3000           5518\nponds_nearest             14589\ndays_exposition            3181\nlocality_name_filtered        0\ndtype: int64"
     },
     "metadata": {},
     "output_type": "display_data"
    }
   ],
   "source": [
    "display(data.isna().sum())"
   ]
  },
  {
   "cell_type": "code",
   "execution_count": 14,
   "metadata": {
    "pycharm": {
     "name": "#%%\n"
    }
   },
   "outputs": [
    {
     "data": {
      "text/plain": "       total_images    last_price    total_area         rooms  ceiling_height  \\\ncount  23699.000000  2.369900e+04  23699.000000  23699.000000    23699.000000   \nmean       9.858475  6.541549e+06     60.348651      2.070636        2.695912   \nstd        5.682529  1.088701e+07     35.654083      1.078405        0.215138   \nmin        0.000000  1.219000e+04     12.000000      0.000000        2.000000   \n25%        6.000000  3.400000e+06     40.000000      1.000000        2.600000   \n50%        9.000000  4.650000e+06     52.000000      2.000000        2.650000   \n75%       14.000000  6.800000e+06     69.900000      3.000000        2.700000   \nmax       50.000000  7.630000e+08    900.000000     19.000000        4.900000   \n\n       floors_total   living_area         floor  kitchen_area       balcony  \\\ncount  23613.000000  23699.000000  23699.000000  23699.000000  23699.000000   \nmean      10.673824     34.321982      5.892358     10.377514      0.591080   \nstd        6.597173     21.700627      4.885249      5.720157      0.959298   \nmin        1.000000      2.000000      1.000000      0.000000      0.000000   \n25%        5.000000     18.400000      2.000000      7.200000      0.000000   \n50%        9.000000     30.300000      4.000000      9.040000      0.000000   \n75%       16.000000     42.700000      8.000000     11.500000      1.000000   \nmax       60.000000    409.700000     33.000000    112.000000      5.000000   \n\n       airports_nearest  cityCenters_nearest  parks_around3000  parks_nearest  \\\ncount      18157.000000         18180.000000      18181.000000    8079.000000   \nmean       28793.672193         14191.277833          0.611408     490.804555   \nstd        12630.880622          8608.386210          0.802074     342.317995   \nmin            0.000000           181.000000          0.000000       1.000000   \n25%        18585.000000          9238.000000          0.000000     288.000000   \n50%        26726.000000         13098.500000          0.000000     455.000000   \n75%        37273.000000         16293.000000          1.000000     612.000000   \nmax        84869.000000         65968.000000          3.000000    3190.000000   \n\n       ponds_around3000  ponds_nearest  days_exposition  \ncount      18181.000000    9110.000000     20518.000000  \nmean           0.770255     517.980900       180.888634  \nstd            0.938346     277.720643       219.727988  \nmin            0.000000      13.000000         1.000000  \n25%            0.000000     294.000000        45.000000  \n50%            1.000000     502.000000        95.000000  \n75%            1.000000     729.000000       232.000000  \nmax            3.000000    1344.000000      1580.000000  ",
      "text/html": "<div>\n<style scoped>\n    .dataframe tbody tr th:only-of-type {\n        vertical-align: middle;\n    }\n\n    .dataframe tbody tr th {\n        vertical-align: top;\n    }\n\n    .dataframe thead th {\n        text-align: right;\n    }\n</style>\n<table border=\"1\" class=\"dataframe\">\n  <thead>\n    <tr style=\"text-align: right;\">\n      <th></th>\n      <th>total_images</th>\n      <th>last_price</th>\n      <th>total_area</th>\n      <th>rooms</th>\n      <th>ceiling_height</th>\n      <th>floors_total</th>\n      <th>living_area</th>\n      <th>floor</th>\n      <th>kitchen_area</th>\n      <th>balcony</th>\n      <th>airports_nearest</th>\n      <th>cityCenters_nearest</th>\n      <th>parks_around3000</th>\n      <th>parks_nearest</th>\n      <th>ponds_around3000</th>\n      <th>ponds_nearest</th>\n      <th>days_exposition</th>\n    </tr>\n  </thead>\n  <tbody>\n    <tr>\n      <th>count</th>\n      <td>23699.000000</td>\n      <td>2.369900e+04</td>\n      <td>23699.000000</td>\n      <td>23699.000000</td>\n      <td>23699.000000</td>\n      <td>23613.000000</td>\n      <td>23699.000000</td>\n      <td>23699.000000</td>\n      <td>23699.000000</td>\n      <td>23699.000000</td>\n      <td>18157.000000</td>\n      <td>18180.000000</td>\n      <td>18181.000000</td>\n      <td>8079.000000</td>\n      <td>18181.000000</td>\n      <td>9110.000000</td>\n      <td>20518.000000</td>\n    </tr>\n    <tr>\n      <th>mean</th>\n      <td>9.858475</td>\n      <td>6.541549e+06</td>\n      <td>60.348651</td>\n      <td>2.070636</td>\n      <td>2.695912</td>\n      <td>10.673824</td>\n      <td>34.321982</td>\n      <td>5.892358</td>\n      <td>10.377514</td>\n      <td>0.591080</td>\n      <td>28793.672193</td>\n      <td>14191.277833</td>\n      <td>0.611408</td>\n      <td>490.804555</td>\n      <td>0.770255</td>\n      <td>517.980900</td>\n      <td>180.888634</td>\n    </tr>\n    <tr>\n      <th>std</th>\n      <td>5.682529</td>\n      <td>1.088701e+07</td>\n      <td>35.654083</td>\n      <td>1.078405</td>\n      <td>0.215138</td>\n      <td>6.597173</td>\n      <td>21.700627</td>\n      <td>4.885249</td>\n      <td>5.720157</td>\n      <td>0.959298</td>\n      <td>12630.880622</td>\n      <td>8608.386210</td>\n      <td>0.802074</td>\n      <td>342.317995</td>\n      <td>0.938346</td>\n      <td>277.720643</td>\n      <td>219.727988</td>\n    </tr>\n    <tr>\n      <th>min</th>\n      <td>0.000000</td>\n      <td>1.219000e+04</td>\n      <td>12.000000</td>\n      <td>0.000000</td>\n      <td>2.000000</td>\n      <td>1.000000</td>\n      <td>2.000000</td>\n      <td>1.000000</td>\n      <td>0.000000</td>\n      <td>0.000000</td>\n      <td>0.000000</td>\n      <td>181.000000</td>\n      <td>0.000000</td>\n      <td>1.000000</td>\n      <td>0.000000</td>\n      <td>13.000000</td>\n      <td>1.000000</td>\n    </tr>\n    <tr>\n      <th>25%</th>\n      <td>6.000000</td>\n      <td>3.400000e+06</td>\n      <td>40.000000</td>\n      <td>1.000000</td>\n      <td>2.600000</td>\n      <td>5.000000</td>\n      <td>18.400000</td>\n      <td>2.000000</td>\n      <td>7.200000</td>\n      <td>0.000000</td>\n      <td>18585.000000</td>\n      <td>9238.000000</td>\n      <td>0.000000</td>\n      <td>288.000000</td>\n      <td>0.000000</td>\n      <td>294.000000</td>\n      <td>45.000000</td>\n    </tr>\n    <tr>\n      <th>50%</th>\n      <td>9.000000</td>\n      <td>4.650000e+06</td>\n      <td>52.000000</td>\n      <td>2.000000</td>\n      <td>2.650000</td>\n      <td>9.000000</td>\n      <td>30.300000</td>\n      <td>4.000000</td>\n      <td>9.040000</td>\n      <td>0.000000</td>\n      <td>26726.000000</td>\n      <td>13098.500000</td>\n      <td>0.000000</td>\n      <td>455.000000</td>\n      <td>1.000000</td>\n      <td>502.000000</td>\n      <td>95.000000</td>\n    </tr>\n    <tr>\n      <th>75%</th>\n      <td>14.000000</td>\n      <td>6.800000e+06</td>\n      <td>69.900000</td>\n      <td>3.000000</td>\n      <td>2.700000</td>\n      <td>16.000000</td>\n      <td>42.700000</td>\n      <td>8.000000</td>\n      <td>11.500000</td>\n      <td>1.000000</td>\n      <td>37273.000000</td>\n      <td>16293.000000</td>\n      <td>1.000000</td>\n      <td>612.000000</td>\n      <td>1.000000</td>\n      <td>729.000000</td>\n      <td>232.000000</td>\n    </tr>\n    <tr>\n      <th>max</th>\n      <td>50.000000</td>\n      <td>7.630000e+08</td>\n      <td>900.000000</td>\n      <td>19.000000</td>\n      <td>4.900000</td>\n      <td>60.000000</td>\n      <td>409.700000</td>\n      <td>33.000000</td>\n      <td>112.000000</td>\n      <td>5.000000</td>\n      <td>84869.000000</td>\n      <td>65968.000000</td>\n      <td>3.000000</td>\n      <td>3190.000000</td>\n      <td>3.000000</td>\n      <td>1344.000000</td>\n      <td>1580.000000</td>\n    </tr>\n  </tbody>\n</table>\n</div>"
     },
     "metadata": {},
     "output_type": "display_data"
    },
    {
     "data": {
      "text/plain": "Empty DataFrame\nColumns: [total_images, last_price, total_area, first_day_exposition, rooms, ceiling_height, floors_total, living_area, floor, is_apartment, studio, open_plan, kitchen_area, balcony, locality_name, airports_nearest, cityCenters_nearest, parks_around3000, parks_nearest, ponds_around3000, ponds_nearest, days_exposition, locality_name_filtered]\nIndex: []\n\n[0 rows x 23 columns]",
      "text/html": "<div>\n<style scoped>\n    .dataframe tbody tr th:only-of-type {\n        vertical-align: middle;\n    }\n\n    .dataframe tbody tr th {\n        vertical-align: top;\n    }\n\n    .dataframe thead th {\n        text-align: right;\n    }\n</style>\n<table border=\"1\" class=\"dataframe\">\n  <thead>\n    <tr style=\"text-align: right;\">\n      <th></th>\n      <th>total_images</th>\n      <th>last_price</th>\n      <th>total_area</th>\n      <th>first_day_exposition</th>\n      <th>rooms</th>\n      <th>ceiling_height</th>\n      <th>floors_total</th>\n      <th>living_area</th>\n      <th>floor</th>\n      <th>is_apartment</th>\n      <th>...</th>\n      <th>balcony</th>\n      <th>locality_name</th>\n      <th>airports_nearest</th>\n      <th>cityCenters_nearest</th>\n      <th>parks_around3000</th>\n      <th>parks_nearest</th>\n      <th>ponds_around3000</th>\n      <th>ponds_nearest</th>\n      <th>days_exposition</th>\n      <th>locality_name_filtered</th>\n    </tr>\n  </thead>\n  <tbody>\n  </tbody>\n</table>\n<p>0 rows × 23 columns</p>\n</div>"
     },
     "metadata": {},
     "output_type": "display_data"
    }
   ],
   "source": [
    "display(data.describe())\n",
    "# удалим редкие значения в столбце с количеством комнат\n",
    "# data['rooms'].plot(kind='box' ,grid=True, figsize = (5, 12))\n",
    "# display(data['rooms'].value_counts())\n",
    "data['rooms'] = data['rooms'].where(data['rooms'] < 7, None)\n",
    "data['total_images'] = data['total_images'].where(data['total_images'] < 30, None)\n",
    "data['last_price'] = data['last_price'].where(data['last_price'] < 1.7*(10**8), None)\n",
    "data['total_area'] = data['total_area'].where(data['total_area'] < 300, None)\n",
    "data['living_area'] = data['living_area'].where(data['living_area'] < 150, None)\n",
    "data['kitchen_area'] = data['kitchen_area'].where(data['kitchen_area'] < 60, None)\n",
    "data = data.dropna(subset=['rooms','total_images','last_price','total_area', 'living_area', 'kitchen_area'])\n",
    "# display(data.isna().sum())\n",
    "\n",
    "# проверка этажей\n",
    "display(data.loc[(data['floor']>data['floors_total'])])"
   ]
  },
  {
   "cell_type": "code",
   "execution_count": 15,
   "metadata": {
    "pycharm": {
     "name": "#%%\n"
    }
   },
   "outputs": [],
   "source": [
    "data['total_area'] = pd.to_numeric(data['total_area'])\n",
    "data['living_area'] = pd.to_numeric(data['living_area'])\n",
    "data['kitchen_area'] = pd.to_numeric(data['kitchen_area'])\n",
    "data['last_price'] = pd.to_numeric(data['last_price'])"
   ]
  },
  {
   "cell_type": "code",
   "execution_count": 16,
   "metadata": {
    "pycharm": {
     "name": "#%%\n"
    }
   },
   "outputs": [
    {
     "name": "stdout",
     "output_type": "stream",
     "text": [
      "Текущая длина датасета:  23487\n",
      "Удалено данных: 0.89%\n"
     ]
    }
   ],
   "source": [
    "print('Текущая длина датасета: ',len(data))\n",
    "print(f'Удалено данных: {round(100 - len(data) / dataset_length * 100,2)}%')\n"
   ]
  },
  {
   "cell_type": "markdown",
   "metadata": {
    "pycharm": {
     "name": "#%% md\n"
    }
   },
   "source": [
    "Учитывая высокие максимальные значения в ячейках с этажностью зданий и этажом квартиры, проверим нет ли ситуаций, когда этаж квартиры превышает этажность здания, также удалены редкочастотные значения количества комнат"
   ]
  },
  {
   "cell_type": "markdown",
   "metadata": {
    "pycharm": {
     "name": "#%% md\n"
    }
   },
   "source": [
    "Добавим в таблицу столбец с ценой квадратного метра\n",
    "Добавим в таблицу день недели публикации объявления (0 — понедельник, 1 — вторник и так далее)\n",
    "Добавим месяц и год публикации объявления, а также тип этажа (первый/последний или другой)\n",
    "Добавим расстояние до центра города в километрах"
   ]
  },
  {
   "cell_type": "code",
   "execution_count": 17,
   "metadata": {
    "pycharm": {
     "name": "#%%\n"
    }
   },
   "outputs": [],
   "source": [
    "data['one_meter_area_price'] = round(data['last_price'] / data['total_area'],1)"
   ]
  },
  {
   "cell_type": "code",
   "execution_count": 18,
   "metadata": {
    "pycharm": {
     "name": "#%%\n"
    }
   },
   "outputs": [],
   "source": [
    "data['date_exposition'] = pd.to_datetime(data['first_day_exposition'], format='%Y-%m-%d')\n",
    "data['weekday_exposition'] = data['date_exposition'].dt.weekday\n",
    "data['month_exposition'] = data['date_exposition'].dt.month\n",
    "data['year_exposition'] = data['date_exposition'].dt.year"
   ]
  },
  {
   "cell_type": "code",
   "execution_count": 19,
   "metadata": {
    "pycharm": {
     "name": "#%%\n"
    }
   },
   "outputs": [],
   "source": [
    "def gen_floor_type(floor, floors_total):\n",
    "    if floor == 1:\n",
    "        return 'первый'\n",
    "    elif floor == floors_total:\n",
    "        return 'последний'\n",
    "    else:\n",
    "        return 'другой'\n",
    "\n",
    "data['floor_type'] = data.apply(lambda x: gen_floor_type(x['floor'], x['floors_total']), axis=1)"
   ]
  },
  {
   "cell_type": "code",
   "execution_count": 20,
   "metadata": {
    "pycharm": {
     "name": "#%%\n"
    }
   },
   "outputs": [],
   "source": [
    "data['kilometres_to_cityCenter'] = round(data['cityCenters_nearest'] / 1000)"
   ]
  },
  {
   "cell_type": "code",
   "execution_count": 21,
   "metadata": {
    "pycharm": {
     "name": "#%%\n"
    }
   },
   "outputs": [
    {
     "data": {
      "text/plain": "   total_images  last_price  total_area first_day_exposition  rooms  \\\n0          20.0  13000000.0       108.0  2019-03-07T00:00:00    3.0   \n1           7.0   3350000.0        40.4  2018-12-04T00:00:00    1.0   \n2          10.0   5196000.0        56.0  2015-08-20T00:00:00    2.0   \n3           0.0  64900000.0       159.0  2015-07-24T00:00:00    3.0   \n4           2.0  10000000.0       100.0  2018-06-19T00:00:00    2.0   \n\n   ceiling_height  floors_total  living_area  floor  is_apartment  ...  \\\n0            2.70          16.0         51.0      8          True  ...   \n1            2.65          11.0         18.6      1          True  ...   \n2            2.65           5.0         34.3      4          True  ...   \n3            2.65          14.0         45.0      9          True  ...   \n4            3.03          14.0         32.0     13          True  ...   \n\n   ponds_nearest  days_exposition  locality_name_filtered  \\\n0          755.0              NaN         санкт-петербург   \n1            NaN             81.0                  шушары   \n2          574.0            558.0         санкт-петербург   \n3          234.0            424.0         санкт-петербург   \n4           48.0            121.0         санкт-петербург   \n\n   one_meter_area_price date_exposition  weekday_exposition  month_exposition  \\\n0              120370.4      2019-03-07                   3                 3   \n1               82920.8      2018-12-04                   1                12   \n2               92785.7      2015-08-20                   3                 8   \n3              408176.1      2015-07-24                   4                 7   \n4              100000.0      2018-06-19                   1                 6   \n\n   year_exposition  floor_type  kilometres_to_cityCenter  \n0             2019      другой                      16.0  \n1             2018      первый                      19.0  \n2             2015      другой                      14.0  \n3             2015      другой                       7.0  \n4             2018      другой                       8.0  \n\n[5 rows x 30 columns]",
      "text/html": "<div>\n<style scoped>\n    .dataframe tbody tr th:only-of-type {\n        vertical-align: middle;\n    }\n\n    .dataframe tbody tr th {\n        vertical-align: top;\n    }\n\n    .dataframe thead th {\n        text-align: right;\n    }\n</style>\n<table border=\"1\" class=\"dataframe\">\n  <thead>\n    <tr style=\"text-align: right;\">\n      <th></th>\n      <th>total_images</th>\n      <th>last_price</th>\n      <th>total_area</th>\n      <th>first_day_exposition</th>\n      <th>rooms</th>\n      <th>ceiling_height</th>\n      <th>floors_total</th>\n      <th>living_area</th>\n      <th>floor</th>\n      <th>is_apartment</th>\n      <th>...</th>\n      <th>ponds_nearest</th>\n      <th>days_exposition</th>\n      <th>locality_name_filtered</th>\n      <th>one_meter_area_price</th>\n      <th>date_exposition</th>\n      <th>weekday_exposition</th>\n      <th>month_exposition</th>\n      <th>year_exposition</th>\n      <th>floor_type</th>\n      <th>kilometres_to_cityCenter</th>\n    </tr>\n  </thead>\n  <tbody>\n    <tr>\n      <th>0</th>\n      <td>20.0</td>\n      <td>13000000.0</td>\n      <td>108.0</td>\n      <td>2019-03-07T00:00:00</td>\n      <td>3.0</td>\n      <td>2.70</td>\n      <td>16.0</td>\n      <td>51.0</td>\n      <td>8</td>\n      <td>True</td>\n      <td>...</td>\n      <td>755.0</td>\n      <td>NaN</td>\n      <td>санкт-петербург</td>\n      <td>120370.4</td>\n      <td>2019-03-07</td>\n      <td>3</td>\n      <td>3</td>\n      <td>2019</td>\n      <td>другой</td>\n      <td>16.0</td>\n    </tr>\n    <tr>\n      <th>1</th>\n      <td>7.0</td>\n      <td>3350000.0</td>\n      <td>40.4</td>\n      <td>2018-12-04T00:00:00</td>\n      <td>1.0</td>\n      <td>2.65</td>\n      <td>11.0</td>\n      <td>18.6</td>\n      <td>1</td>\n      <td>True</td>\n      <td>...</td>\n      <td>NaN</td>\n      <td>81.0</td>\n      <td>шушары</td>\n      <td>82920.8</td>\n      <td>2018-12-04</td>\n      <td>1</td>\n      <td>12</td>\n      <td>2018</td>\n      <td>первый</td>\n      <td>19.0</td>\n    </tr>\n    <tr>\n      <th>2</th>\n      <td>10.0</td>\n      <td>5196000.0</td>\n      <td>56.0</td>\n      <td>2015-08-20T00:00:00</td>\n      <td>2.0</td>\n      <td>2.65</td>\n      <td>5.0</td>\n      <td>34.3</td>\n      <td>4</td>\n      <td>True</td>\n      <td>...</td>\n      <td>574.0</td>\n      <td>558.0</td>\n      <td>санкт-петербург</td>\n      <td>92785.7</td>\n      <td>2015-08-20</td>\n      <td>3</td>\n      <td>8</td>\n      <td>2015</td>\n      <td>другой</td>\n      <td>14.0</td>\n    </tr>\n    <tr>\n      <th>3</th>\n      <td>0.0</td>\n      <td>64900000.0</td>\n      <td>159.0</td>\n      <td>2015-07-24T00:00:00</td>\n      <td>3.0</td>\n      <td>2.65</td>\n      <td>14.0</td>\n      <td>45.0</td>\n      <td>9</td>\n      <td>True</td>\n      <td>...</td>\n      <td>234.0</td>\n      <td>424.0</td>\n      <td>санкт-петербург</td>\n      <td>408176.1</td>\n      <td>2015-07-24</td>\n      <td>4</td>\n      <td>7</td>\n      <td>2015</td>\n      <td>другой</td>\n      <td>7.0</td>\n    </tr>\n    <tr>\n      <th>4</th>\n      <td>2.0</td>\n      <td>10000000.0</td>\n      <td>100.0</td>\n      <td>2018-06-19T00:00:00</td>\n      <td>2.0</td>\n      <td>3.03</td>\n      <td>14.0</td>\n      <td>32.0</td>\n      <td>13</td>\n      <td>True</td>\n      <td>...</td>\n      <td>48.0</td>\n      <td>121.0</td>\n      <td>санкт-петербург</td>\n      <td>100000.0</td>\n      <td>2018-06-19</td>\n      <td>1</td>\n      <td>6</td>\n      <td>2018</td>\n      <td>другой</td>\n      <td>8.0</td>\n    </tr>\n  </tbody>\n</table>\n<p>5 rows × 30 columns</p>\n</div>"
     },
     "metadata": {},
     "output_type": "display_data"
    }
   ],
   "source": [
    "display(data.head())"
   ]
  },
  {
   "cell_type": "markdown",
   "metadata": {
    "pycharm": {
     "name": "#%% md\n"
    }
   },
   "source": [
    "### Исследовательский анализ данных"
   ]
  },
  {
   "cell_type": "code",
   "execution_count": 22,
   "metadata": {
    "pycharm": {
     "name": "#%%\n"
    }
   },
   "outputs": [
    {
     "data": {
      "text/plain": "<Figure size 864x432 with 1 Axes>",
      "image/png": "[encoded data removed]"
     },
     "metadata": {},
     "output_type": "display_data"
    }
   ],
   "source": [
    "data.plot(kind='hist', y='total_area', grid=True, bins=30, figsize=(12, 6));"
   ]
  },
  {
   "cell_type": "markdown",
   "metadata": {
    "pycharm": {
     "name": "#%% md\n"
    }
   },
   "source": [
    "На данном графике видим, что основная масса квартир имеет площадь от 25 до 75 квадратных метров, чаще всего квартира будет площадью 30-45 квадратных метров. Крайне редко встречаются квартиры, площадью свыше 200 квадратных метров."
   ]
  },
  {
   "cell_type": "code",
   "execution_count": 23,
   "metadata": {
    "pycharm": {
     "name": "#%%\n"
    }
   },
   "outputs": [
    {
     "data": {
      "text/plain": "<Figure size 864x432 with 1 Axes>",
      "image/png": "[encoded data removed]"
     },
     "metadata": {},
     "output_type": "display_data"
    }
   ],
   "source": [
    "data.plot(kind='hist', y='living_area', grid=True, bins=30, figsize=(12, 6));"
   ]
  },
  {
   "cell_type": "markdown",
   "metadata": {
    "pycharm": {
     "name": "#%% md\n"
    }
   },
   "source": [
    "Изучив гистограмму можно выяснить, что в основном жилая площадь в квартирах около 20 квадратных метров, либо около 30 квадратных метров, либо около 45-50 квадратных метров. Это можно объяснить ссылаясь на график ниже, что основная масса квартир имеет одну, две или три комнаты, поэтому и видим такие всплески на графике жилой площади."
   ]
  },
  {
   "cell_type": "code",
   "execution_count": 24,
   "metadata": {
    "pycharm": {
     "name": "#%%\n"
    }
   },
   "outputs": [
    {
     "data": {
      "text/plain": "<Figure size 864x432 with 1 Axes>",
      "image/png": "[encoded data removed]"
     },
     "metadata": {},
     "output_type": "display_data"
    }
   ],
   "source": [
    "data.plot(kind='hist', y='rooms', grid=True, bins=30, figsize=(12, 6));"
   ]
  },
  {
   "cell_type": "code",
   "execution_count": 25,
   "metadata": {
    "pycharm": {
     "name": "#%%\n"
    }
   },
   "outputs": [
    {
     "data": {
      "text/plain": "<Figure size 864x432 with 1 Axes>",
      "image/png": "[encoded data removed]"
     },
     "metadata": {},
     "output_type": "display_data"
    }
   ],
   "source": [
    "data.plot(kind='hist', y='kitchen_area', grid=True, bins=30, figsize=(12, 6));"
   ]
  },
  {
   "cell_type": "markdown",
   "metadata": {
    "pycharm": {
     "name": "#%% md\n"
    }
   },
   "source": [
    "На графике видим, что в подавляющем большинстве площадь кухни варьируется от 6 до 12 квадратных метров, также на графике можем наблюдать небольшую группу кухонь с нулевой площадью - это кухни в студиях и квартирах без комнат, где кухня совмещена с жилой комнатой."
   ]
  },
  {
   "cell_type": "code",
   "execution_count": 26,
   "metadata": {
    "pycharm": {
     "name": "#%%\n"
    }
   },
   "outputs": [
    {
     "data": {
      "text/plain": "<Figure size 864x432 with 1 Axes>",
      "image/png": "[encoded data removed]"
     },
     "metadata": {},
     "output_type": "display_data"
    }
   ],
   "source": [
    "data.plot(kind='hist', y='last_price', grid=True, bins=20, figsize=(12, 6), range=(0,2*10**7));"
   ]
  },
  {
   "cell_type": "markdown",
   "metadata": {
    "pycharm": {
     "name": "#%% md\n"
    }
   },
   "source": [
    "На гистограмме стимости квартир видим основную массу квартир, которые стоят от 2,5 млн до 6 млн. Реже встречаются квартиры стоимостью 1 - 2,5 млн, а также 6-20 млн."
   ]
  },
  {
   "cell_type": "code",
   "execution_count": 27,
   "metadata": {
    "pycharm": {
     "name": "#%%\n"
    }
   },
   "outputs": [
    {
     "data": {
      "text/plain": "<Figure size 864x432 with 1 Axes>",
      "image/png": "[encoded data removed]"
     },
     "metadata": {},
     "output_type": "display_data"
    }
   ],
   "source": [
    "data.plot(kind='hist', y='ceiling_height', grid=True, bins=20, figsize=(12, 6),  range=(2,4));"
   ]
  },
  {
   "cell_type": "markdown",
   "metadata": {
    "pycharm": {
     "name": "#%% md\n"
    }
   },
   "source": [
    "На графике видим основную массу квартир с высотой потолков 2,5-2,7 метра, реже встречаются потолки 2,8 или 3.1 метра."
   ]
  },
  {
   "cell_type": "code",
   "execution_count": 28,
   "metadata": {
    "pycharm": {
     "name": "#%%\n"
    }
   },
   "outputs": [
    {
     "data": {
      "text/plain": "<Figure size 864x432 with 1 Axes>",
      "image/png": "[encoded data removed]"
     },
     "metadata": {},
     "output_type": "display_data"
    }
   ],
   "source": [
    "data.plot(kind='hist', y='floor', grid=True, bins=30, figsize=(12, 6), range=(0,30));"
   ]
  },
  {
   "cell_type": "markdown",
   "metadata": {
    "pycharm": {
     "name": "#%% md\n"
    }
   },
   "source": [
    "На графике этажа квартиры видно, что чаще всего продаются квартиры на этажах с первого по пятый, чуть реже с 5 по 9, это можно обьяснить, посмотрев на график ниже - количество этажей в домах, из него видно, что основная масса жилого фонда - пятиэтажки, реже 9-этажные дома. На графике этажности домов можем также видеть всплески около типовых домов в 12,16 и 25 этажей."
   ]
  },
  {
   "cell_type": "code",
   "execution_count": 29,
   "metadata": {
    "pycharm": {
     "name": "#%%\n"
    }
   },
   "outputs": [
    {
     "data": {
      "text/plain": "<Figure size 864x432 with 1 Axes>",
      "image/png": "[encoded data removed]"
     },
     "metadata": {},
     "output_type": "display_data"
    }
   ],
   "source": [
    "data.plot(kind='hist', y='floors_total', grid=True, bins=30, figsize=(12, 6), range=(0,30));"
   ]
  },
  {
   "cell_type": "code",
   "execution_count": 30,
   "metadata": {
    "pycharm": {
     "name": "#%%\n"
    }
   },
   "outputs": [
    {
     "data": {
      "text/plain": "<Figure size 864x432 with 1 Axes>",
      "image/png": "[encoded data removed]"
     },
     "metadata": {},
     "output_type": "display_data"
    }
   ],
   "source": [
    "data.plot(kind='hist', y='cityCenters_nearest', grid=True, bins=30, figsize=(12, 6));"
   ]
  },
  {
   "cell_type": "markdown",
   "metadata": {
    "pycharm": {
     "name": "#%% md\n"
    }
   },
   "source": [
    "Основная масса квартир находится в спальных районах города - в 10-17 километрах от центра. Реже квартиры находятся ближе к центру - от нуля до 10 км. Также можно выделить пригород - 20-35 км от центра."
   ]
  },
  {
   "cell_type": "code",
   "execution_count": 31,
   "metadata": {
    "pycharm": {
     "name": "#%%\n"
    }
   },
   "outputs": [
    {
     "data": {
      "text/plain": "<Figure size 864x432 with 1 Axes>",
      "image/png": "[encoded data removed]"
     },
     "metadata": {},
     "output_type": "display_data"
    }
   ],
   "source": [
    "data.plot(kind='hist', y='airports_nearest', grid=True, bins=35, figsize=(12, 6)) ;"
   ]
  },
  {
   "cell_type": "markdown",
   "metadata": {
    "pycharm": {
     "name": "#%% md\n"
    }
   },
   "source": [
    "На графике видим, что квартиры находятся на удалении 10-40 км от аэропорта, реже 40-55 км."
   ]
  },
  {
   "cell_type": "code",
   "execution_count": 32,
   "metadata": {
    "pycharm": {
     "name": "#%%\n"
    }
   },
   "outputs": [
    {
     "data": {
      "text/plain": "<Figure size 864x432 with 1 Axes>",
      "image/png": "[encoded data removed]"
     },
     "metadata": {},
     "output_type": "display_data"
    }
   ],
   "source": [
    "data.plot(kind='hist', y='parks_nearest', grid=True, bins=30, figsize=(12, 6));"
   ]
  },
  {
   "cell_type": "markdown",
   "metadata": {
    "pycharm": {
     "name": "#%% md\n"
    }
   },
   "source": [
    "Основная масса квартир находится на удалении 100-700м от парка."
   ]
  },
  {
   "cell_type": "code",
   "execution_count": 33,
   "metadata": {
    "pycharm": {
     "name": "#%%\n"
    }
   },
   "outputs": [
    {
     "data": {
      "text/plain": "<Figure size 864x432 with 1 Axes>",
      "image/png": "[encoded data removed]"
     },
     "metadata": {},
     "output_type": "display_data"
    }
   ],
   "source": [
    "data.plot(kind='hist', y='weekday_exposition', grid=True, bins=30, figsize=(12, 6));"
   ]
  },
  {
   "cell_type": "markdown",
   "metadata": {
    "pycharm": {
     "name": "#%% md\n"
    }
   },
   "source": [
    "По гистограмме достаточно сложно определить явного лидера среди дней недели, скорее можно сказать, что объявления о продаже квартир выкладываются в будние дни чаще, чем в выходные."
   ]
  },
  {
   "cell_type": "code",
   "execution_count": 34,
   "metadata": {
    "pycharm": {
     "name": "#%%\n"
    }
   },
   "outputs": [
    {
     "data": {
      "text/plain": "<Figure size 864x432 with 1 Axes>",
      "image/png": "[encoded data removed]"
     },
     "metadata": {},
     "output_type": "display_data"
    }
   ],
   "source": [
    "data.plot(kind='hist', y='month_exposition', grid=True, bins=23, figsize=(12, 6));"
   ]
  },
  {
   "cell_type": "markdown",
   "metadata": {
    "pycharm": {
     "name": "#%% md\n"
    }
   },
   "source": [
    "На гистограмме наблюдаем, что квартиры чаще всего выставляются на продажу зимой и осенью, и чуть реже летом и в мае, что скорее всего связано с праздниками и отпусками."
   ]
  },
  {
   "cell_type": "code",
   "execution_count": 35,
   "metadata": {
    "pycharm": {
     "name": "#%%\n"
    }
   },
   "outputs": [
    {
     "data": {
      "text/plain": "<Figure size 432x288 with 1 Axes>",
      "image/png": "[encoded data removed]"
     },
     "metadata": {},
     "output_type": "display_data"
    }
   ],
   "source": [
    "data['floor_type'].hist(grid=True);"
   ]
  },
  {
   "cell_type": "markdown",
   "metadata": {
    "pycharm": {
     "name": "#%% md\n"
    }
   },
   "source": [
    "Исходя из графика понимаем, что чаще всего продаются квартиры не крайних этажей. При этом квартир не крайних этажей больше по количеству."
   ]
  },
  {
   "cell_type": "markdown",
   "metadata": {
    "pycharm": {
     "name": "#%% md\n"
    }
   },
   "source": [
    "Изучим, как быстро продавались квартиры. Этот параметр показывает, сколько дней было размещено каждое объявление.\n",
    "    - Построим гистограмму.\n",
    "    - Посчитаем среднее и медиану."
   ]
  },
  {
   "cell_type": "code",
   "execution_count": 36,
   "metadata": {
    "pycharm": {
     "name": "#%%\n"
    }
   },
   "outputs": [
    {
     "data": {
      "text/plain": "<Figure size 864x432 with 1 Axes>",
      "image/png": "[encoded data removed]"
     },
     "metadata": {},
     "output_type": "display_data"
    }
   ],
   "source": [
    "data.plot(kind='hist', y='days_exposition', grid=True, bins=32, figsize=(12, 6));"
   ]
  },
  {
   "cell_type": "code",
   "execution_count": 37,
   "metadata": {
    "pycharm": {
     "name": "#%%\n"
    }
   },
   "outputs": [
    {
     "data": {
      "text/plain": "<Figure size 864x432 with 1 Axes>",
      "image/png": "[encoded data removed]"
     },
     "metadata": {},
     "output_type": "display_data"
    }
   ],
   "source": [
    "data.plot(kind='hist', y='days_exposition', grid=True, bins=32, figsize=(12, 6), range=(0,100));"
   ]
  },
  {
   "cell_type": "code",
   "execution_count": 38,
   "metadata": {
    "pycharm": {
     "name": "#%%\n"
    }
   },
   "outputs": [
    {
     "name": "stdout",
     "output_type": "stream",
     "text": [
      "Среднее 180.17\n",
      "Медиана 95.0\n"
     ]
    }
   ],
   "source": [
    "print('Среднее', round(data['days_exposition'].mean(),2))\n",
    "print('Медиана', data['days_exposition'].median())"
   ]
  },
  {
   "cell_type": "markdown",
   "metadata": {
    "pycharm": {
     "name": "#%% md\n"
    }
   },
   "source": [
    "Опираясь на график и вычисленные данные можно сказать, что обычно продажа занимает около 95 дней (3-4 месяца), а значит быстрыми можно считать продажи, которые произошли в течении первых 2-3 месяцев. Необычно долгие продажи - более 200 дней."
   ]
  },
  {
   "cell_type": "markdown",
   "metadata": {
    "pycharm": {
     "name": "#%% md\n"
    }
   },
   "source": [
    "Изучим факторы, которые предположительно больше всего влияют на общую (полную) стоимость объекта:\n",
    "Зависит ли цена от:\n",
    "   - общей площади;\n",
    "   - жилой площади;\n",
    "   - площади кухни;\n",
    "   - количества комнат;\n",
    "   - этажа, на котором расположена квартира (первый, последний, другой);\n",
    "   - даты размещения (день недели, месяц, год)."
   ]
  },
  {
   "cell_type": "code",
   "execution_count": 39,
   "metadata": {
    "pycharm": {
     "name": "#%%\n"
    }
   },
   "outputs": [
    {
     "data": {
      "text/plain": "<Figure size 720x432 with 1 Axes>",
      "image/png": "[encoded data removed]"
     },
     "metadata": {},
     "output_type": "display_data"
    }
   ],
   "source": [
    "(pd\n",
    " .pivot_table(data, values=['total_area', 'living_area'], index='last_price', aggfunc='median')\n",
    " .plot(style='o', grid=True, figsize=(10, 6), alpha=0.4, fontsize=20, logx=True, xlim=(10**5.5))\n",
    " )\n",
    "plt.show()"
   ]
  },
  {
   "cell_type": "code",
   "execution_count": 40,
   "metadata": {
    "pycharm": {
     "name": "#%%\n"
    }
   },
   "outputs": [
    {
     "data": {
      "text/plain": "<Figure size 720x432 with 1 Axes>",
      "image/png": "[encoded data removed]"
     },
     "metadata": {},
     "output_type": "display_data"
    }
   ],
   "source": [
    "(pd\n",
    " .pivot_table(data, values=['kitchen_area'], index='last_price', aggfunc='median')\n",
    " .plot(style='o', grid=True, figsize=(10, 6), alpha=0.4, fontsize=20, logx=True, xlim=(10**5.5))\n",
    " );"
   ]
  },
  {
   "cell_type": "code",
   "execution_count": 41,
   "metadata": {
    "pycharm": {
     "name": "#%%\n"
    }
   },
   "outputs": [
    {
     "data": {
      "text/plain": "<Figure size 432x432 with 1 Axes>",
      "image/png": "[encoded data removed]"
     },
     "metadata": {},
     "output_type": "display_data"
    }
   ],
   "source": [
    "pd.pivot_table(data, values='last_price', index='rooms', aggfunc='median').plot(kind='bar', figsize=(6, 6), fontsize=15);"
   ]
  },
  {
   "cell_type": "code",
   "execution_count": 42,
   "metadata": {
    "pycharm": {
     "name": "#%%\n"
    }
   },
   "outputs": [
    {
     "data": {
      "text/plain": "<Figure size 432x288 with 1 Axes>",
      "image/png": "[encoded data removed]"
     },
     "metadata": {},
     "output_type": "display_data"
    }
   ],
   "source": [
    "pd.pivot_table(data, values='last_price', index='floor_type', aggfunc='median').plot(kind='bar', figsize=(6, 4), fontsize=15);"
   ]
  },
  {
   "cell_type": "code",
   "execution_count": 43,
   "metadata": {
    "pycharm": {
     "name": "#%%\n"
    }
   },
   "outputs": [
    {
     "data": {
      "text/plain": "<Figure size 504x288 with 1 Axes>",
      "image/png": "[encoded data removed]"
     },
     "metadata": {},
     "output_type": "display_data"
    }
   ],
   "source": [
    "pd.pivot_table(data, values='last_price', index='weekday_exposition', aggfunc='median').plot(kind='bar', figsize=(7,4), fontsize=15);"
   ]
  },
  {
   "cell_type": "code",
   "execution_count": 44,
   "metadata": {
    "pycharm": {
     "name": "#%%\n"
    }
   },
   "outputs": [
    {
     "data": {
      "text/plain": "<Figure size 504x288 with 1 Axes>",
      "image/png": "[encoded data removed]"
     },
     "metadata": {},
     "output_type": "display_data"
    }
   ],
   "source": [
    "pd.pivot_table(data, values='last_price', index='month_exposition', aggfunc='median').plot(kind='bar', figsize=(7, 4), fontsize=15);"
   ]
  },
  {
   "cell_type": "code",
   "execution_count": 45,
   "metadata": {
    "pycharm": {
     "name": "#%%\n"
    }
   },
   "outputs": [
    {
     "data": {
      "text/plain": "<Figure size 504x288 with 1 Axes>",
      "image/png": "[encoded data removed]"
     },
     "metadata": {},
     "output_type": "display_data"
    }
   ],
   "source": [
    "pd.pivot_table(data, values='last_price', index='year_exposition', aggfunc='mean').plot(kind='bar', figsize=(7, 4), fontsize=15);"
   ]
  },
  {
   "cell_type": "markdown",
   "metadata": {
    "pycharm": {
     "name": "#%% md\n"
    }
   },
   "source": [
    "Изучив построенные графики можно придти к выводу, что больше всего на общую (полную) стоимость объекта влияют полная площадь квартиры, а также площадь жилой зоны и кухни."
   ]
  },
  {
   "cell_type": "markdown",
   "metadata": {
    "pycharm": {
     "name": "#%% md\n"
    }
   },
   "source": [
    "Посчитаем среднюю цену одного квадратного метра в 10 населённых пунктах с наибольшим числом объявлений.\n",
    "Выделим населённые пункты с самой высокой и низкой стоимостью квадратного метра."
   ]
  },
  {
   "cell_type": "code",
   "execution_count": 46,
   "metadata": {
    "pycharm": {
     "name": "#%%\n"
    }
   },
   "outputs": [
    {
     "data": {
      "text/plain": "                        count       mean\nlocality_name_filtered                  \nсанкт-петербург         15522  113523.45\nмурино                    590   86087.51\nкудрово                   471   95319.26\nшушары                    440   78677.36\nвсеволожск                398   68654.48\nпушкин                    364  102929.68\nколпино                   337   75333.30\nпарголово                 326   90332.26\nгатчина                   307   68746.15\nвыборг                    237   58141.91",
      "text/html": "<div>\n<style scoped>\n    .dataframe tbody tr th:only-of-type {\n        vertical-align: middle;\n    }\n\n    .dataframe tbody tr th {\n        vertical-align: top;\n    }\n\n    .dataframe thead th {\n        text-align: right;\n    }\n</style>\n<table border=\"1\" class=\"dataframe\">\n  <thead>\n    <tr style=\"text-align: right;\">\n      <th></th>\n      <th>count</th>\n      <th>mean</th>\n    </tr>\n    <tr>\n      <th>locality_name_filtered</th>\n      <th></th>\n      <th></th>\n    </tr>\n  </thead>\n  <tbody>\n    <tr>\n      <th>санкт-петербург</th>\n      <td>15522</td>\n      <td>113523.45</td>\n    </tr>\n    <tr>\n      <th>мурино</th>\n      <td>590</td>\n      <td>86087.51</td>\n    </tr>\n    <tr>\n      <th>кудрово</th>\n      <td>471</td>\n      <td>95319.26</td>\n    </tr>\n    <tr>\n      <th>шушары</th>\n      <td>440</td>\n      <td>78677.36</td>\n    </tr>\n    <tr>\n      <th>всеволожск</th>\n      <td>398</td>\n      <td>68654.48</td>\n    </tr>\n    <tr>\n      <th>пушкин</th>\n      <td>364</td>\n      <td>102929.68</td>\n    </tr>\n    <tr>\n      <th>колпино</th>\n      <td>337</td>\n      <td>75333.30</td>\n    </tr>\n    <tr>\n      <th>парголово</th>\n      <td>326</td>\n      <td>90332.26</td>\n    </tr>\n    <tr>\n      <th>гатчина</th>\n      <td>307</td>\n      <td>68746.15</td>\n    </tr>\n    <tr>\n      <th>выборг</th>\n      <td>237</td>\n      <td>58141.91</td>\n    </tr>\n  </tbody>\n</table>\n</div>"
     },
     "metadata": {},
     "output_type": "display_data"
    },
    {
     "name": "stdout",
     "output_type": "stream",
     "text": [
      "Максимальная стоимость квадратного метра: 113523.45\n",
      "Минимальная стоимость квадратного метра: 58141.91\n"
     ]
    },
    {
     "data": {
      "text/plain": "<Figure size 864x432 with 1 Axes>",
      "image/png": "[encoded data removed]"
     },
     "metadata": {},
     "output_type": "display_data"
    }
   ],
   "source": [
    "top10 = data.pivot_table(index='locality_name_filtered'\n",
    "                         , values='one_meter_area_price'\n",
    "                         , aggfunc=('count','mean')).sort_values(by='count', ascending=False).head(10)\n",
    "\n",
    "top10['mean'] = round(top10['mean'],2)\n",
    "display(top10)\n",
    "print(f'Максимальная стоимость квадратного метра: {top10[\"mean\"].max()}')\n",
    "print(f'Минимальная стоимость квадратного метра: {top10[\"mean\"].min()}')\n",
    "\n",
    "top10.sort_values('mean',ascending=False).plot(kind='bar', y='mean' , grid=True, figsize=(12, 6), ylabel='Цена одного квадратного метра', xlabel='Населенный пункт', fontsize = 12)\n",
    "plt.xticks(rotation='vertical')\n",
    "plt.show()"
   ]
  },
  {
   "cell_type": "markdown",
   "metadata": {
    "pycharm": {
     "name": "#%% md\n"
    }
   },
   "source": [
    "Ранее мы посчитали расстояние до центра в километрах. Теперь выделим квартиры в Санкт-Петербурге и вычислим среднюю цену каждого километра."
   ]
  },
  {
   "cell_type": "code",
   "execution_count": 47,
   "metadata": {
    "pycharm": {
     "name": "#%%\n"
    }
   },
   "outputs": [
    {
     "data": {
      "text/plain": "                          count          mean   onekm_price\nkilometres_to_cityCenter                                   \n0.0                          23  2.207311e+07           inf\n1.0                         173  1.501358e+07  1.501358e+07\n2.0                         292  1.520983e+07  7.604915e+06\n3.0                         336  1.020879e+07  3.402930e+06\n4.0                         669  1.126495e+07  2.816239e+06\n5.0                         877  1.192619e+07  2.385238e+06\n6.0                         581  1.241938e+07  2.069897e+06\n7.0                         411  1.373624e+07  1.962320e+06\n8.0                         592  9.040130e+06  1.130016e+06\n9.0                         592  6.903278e+06  7.670309e+05\n10.0                        715  6.415681e+06  6.415681e+05\n11.0                       1177  6.245939e+06  5.678126e+05\n12.0                       1601  5.795076e+06  4.829230e+05\n13.0                       1455  6.063668e+06  4.664360e+05\n14.0                       1276  5.604546e+06  4.003247e+05\n15.0                       1562  5.809661e+06  3.873107e+05\n16.0                       1264  5.361163e+06  3.350727e+05\n17.0                        881  5.217044e+06  3.068849e+05\n18.0                        259  4.984701e+06  2.769278e+05\n19.0                        157  5.037675e+06  2.651408e+05\n20.0                         49  5.951465e+06  2.975732e+05\n21.0                        117  5.493469e+06  2.615938e+05\n22.0                        202  5.415524e+06  2.461602e+05\n23.0                         83  4.689843e+06  2.039062e+05\n24.0                         26  3.854430e+06  1.606012e+05\n25.0                         26  4.052840e+06  1.621136e+05\n26.0                         53  3.973013e+06  1.528082e+05\n27.0                          2  8.300000e+06  3.074074e+05\n28.0                          7  5.026429e+06  1.795153e+05\n29.0                          6  4.236667e+06  1.460920e+05",
      "text/html": "<div>\n<style scoped>\n    .dataframe tbody tr th:only-of-type {\n        vertical-align: middle;\n    }\n\n    .dataframe tbody tr th {\n        vertical-align: top;\n    }\n\n    .dataframe thead th {\n        text-align: right;\n    }\n</style>\n<table border=\"1\" class=\"dataframe\">\n  <thead>\n    <tr style=\"text-align: right;\">\n      <th></th>\n      <th>count</th>\n      <th>mean</th>\n      <th>onekm_price</th>\n    </tr>\n    <tr>\n      <th>kilometres_to_cityCenter</th>\n      <th></th>\n      <th></th>\n      <th></th>\n    </tr>\n  </thead>\n  <tbody>\n    <tr>\n      <th>0.0</th>\n      <td>23</td>\n      <td>2.207311e+07</td>\n      <td>inf</td>\n    </tr>\n    <tr>\n      <th>1.0</th>\n      <td>173</td>\n      <td>1.501358e+07</td>\n      <td>1.501358e+07</td>\n    </tr>\n    <tr>\n      <th>2.0</th>\n      <td>292</td>\n      <td>1.520983e+07</td>\n      <td>7.604915e+06</td>\n    </tr>\n    <tr>\n      <th>3.0</th>\n      <td>336</td>\n      <td>1.020879e+07</td>\n      <td>3.402930e+06</td>\n    </tr>\n    <tr>\n      <th>4.0</th>\n      <td>669</td>\n      <td>1.126495e+07</td>\n      <td>2.816239e+06</td>\n    </tr>\n    <tr>\n      <th>5.0</th>\n      <td>877</td>\n      <td>1.192619e+07</td>\n      <td>2.385238e+06</td>\n    </tr>\n    <tr>\n      <th>6.0</th>\n      <td>581</td>\n      <td>1.241938e+07</td>\n      <td>2.069897e+06</td>\n    </tr>\n    <tr>\n      <th>7.0</th>\n      <td>411</td>\n      <td>1.373624e+07</td>\n      <td>1.962320e+06</td>\n    </tr>\n    <tr>\n      <th>8.0</th>\n      <td>592</td>\n      <td>9.040130e+06</td>\n      <td>1.130016e+06</td>\n    </tr>\n    <tr>\n      <th>9.0</th>\n      <td>592</td>\n      <td>6.903278e+06</td>\n      <td>7.670309e+05</td>\n    </tr>\n    <tr>\n      <th>10.0</th>\n      <td>715</td>\n      <td>6.415681e+06</td>\n      <td>6.415681e+05</td>\n    </tr>\n    <tr>\n      <th>11.0</th>\n      <td>1177</td>\n      <td>6.245939e+06</td>\n      <td>5.678126e+05</td>\n    </tr>\n    <tr>\n      <th>12.0</th>\n      <td>1601</td>\n      <td>5.795076e+06</td>\n      <td>4.829230e+05</td>\n    </tr>\n    <tr>\n      <th>13.0</th>\n      <td>1455</td>\n      <td>6.063668e+06</td>\n      <td>4.664360e+05</td>\n    </tr>\n    <tr>\n      <th>14.0</th>\n      <td>1276</td>\n      <td>5.604546e+06</td>\n      <td>4.003247e+05</td>\n    </tr>\n    <tr>\n      <th>15.0</th>\n      <td>1562</td>\n      <td>5.809661e+06</td>\n      <td>3.873107e+05</td>\n    </tr>\n    <tr>\n      <th>16.0</th>\n      <td>1264</td>\n      <td>5.361163e+06</td>\n      <td>3.350727e+05</td>\n    </tr>\n    <tr>\n      <th>17.0</th>\n      <td>881</td>\n      <td>5.217044e+06</td>\n      <td>3.068849e+05</td>\n    </tr>\n    <tr>\n      <th>18.0</th>\n      <td>259</td>\n      <td>4.984701e+06</td>\n      <td>2.769278e+05</td>\n    </tr>\n    <tr>\n      <th>19.0</th>\n      <td>157</td>\n      <td>5.037675e+06</td>\n      <td>2.651408e+05</td>\n    </tr>\n    <tr>\n      <th>20.0</th>\n      <td>49</td>\n      <td>5.951465e+06</td>\n      <td>2.975732e+05</td>\n    </tr>\n    <tr>\n      <th>21.0</th>\n      <td>117</td>\n      <td>5.493469e+06</td>\n      <td>2.615938e+05</td>\n    </tr>\n    <tr>\n      <th>22.0</th>\n      <td>202</td>\n      <td>5.415524e+06</td>\n      <td>2.461602e+05</td>\n    </tr>\n    <tr>\n      <th>23.0</th>\n      <td>83</td>\n      <td>4.689843e+06</td>\n      <td>2.039062e+05</td>\n    </tr>\n    <tr>\n      <th>24.0</th>\n      <td>26</td>\n      <td>3.854430e+06</td>\n      <td>1.606012e+05</td>\n    </tr>\n    <tr>\n      <th>25.0</th>\n      <td>26</td>\n      <td>4.052840e+06</td>\n      <td>1.621136e+05</td>\n    </tr>\n    <tr>\n      <th>26.0</th>\n      <td>53</td>\n      <td>3.973013e+06</td>\n      <td>1.528082e+05</td>\n    </tr>\n    <tr>\n      <th>27.0</th>\n      <td>2</td>\n      <td>8.300000e+06</td>\n      <td>3.074074e+05</td>\n    </tr>\n    <tr>\n      <th>28.0</th>\n      <td>7</td>\n      <td>5.026429e+06</td>\n      <td>1.795153e+05</td>\n    </tr>\n    <tr>\n      <th>29.0</th>\n      <td>6</td>\n      <td>4.236667e+06</td>\n      <td>1.460920e+05</td>\n    </tr>\n  </tbody>\n</table>\n</div>"
     },
     "metadata": {},
     "output_type": "display_data"
    },
    {
     "data": {
      "text/plain": "<Figure size 864x432 with 1 Axes>",
      "image/png": "[encoded data removed]"
     },
     "metadata": {},
     "output_type": "display_data"
    }
   ],
   "source": [
    "spb_price_km = data.loc[data['locality_name_filtered'] == 'санкт-петербург'].pivot_table(index='kilometres_to_cityCenter'\n",
    "                         , values='last_price'\n",
    "                         , aggfunc=('count','mean'))\n",
    "try:\n",
    "    spb_price_km['onekm_price'] = spb_price_km['mean'] / spb_price_km.index\n",
    "except:\n",
    "    print('division by zero!')\n",
    "display(spb_price_km)\n",
    "\n",
    "\n",
    "spb_price_km.plot(style='o-', y='mean' , grid=True, figsize=(12, 6), ylabel='Цена квартиры', xlabel='Удаленность от центра', fontsize = 12);"
   ]
  },
  {
   "cell_type": "markdown",
   "metadata": {
    "pycharm": {
     "name": "#%% md\n"
    }
   },
   "source": [
    "Получив график стоимости квартир в Санкт-Петербурге в зависимости от удаленности центра можно сделать вывод:\n",
    "Чем квартира находится ближе к центру, тем дороже стоит. При этом, можно увидеть на графике небольшой всплеск - скорее всего это влияние района и площади квартиры на цену, которые перебивают удаленность от центра."
   ]
  },
  {
   "cell_type": "markdown",
   "metadata": {
    "pycharm": {
     "name": "#%% md\n"
    }
   },
   "source": [
    "### Общий вывод"
   ]
  },
  {
   "cell_type": "markdown",
   "metadata": {
    "pycharm": {
     "name": "#%% md\n"
    }
   },
   "source": [
    "В ходе исследования были выявлены несколько зависимостей:\n",
    " - Зависимость цены от удаленности центра города - чем ближе квартира находится к центру города, тем дороже\n",
    " - Зависимость цены от площади квартиры (общей, жилой, площади кухни)\n",
    " - Зависимость цены квартиры от города - в Санкт-Петербурге самые дорогие квартиры, в городах спутниках цены ниже\n",
    " - Зависимость цены квартиры от количества комнат - чем больше комнат, тем дороже\n",
    "\n",
    "Также, было выяснено, что обычно продажа занимает около 95 дней (3-4 месяца), 2-3 месяца можно считать быстрой продажей, а полгода и больше - долгой.\n",
    "При этом, чаще всего объявления о продаже выкладываются в будние дни.\n",
    "\n",
    "Таким образом, средняя типичная квартира будет:\n",
    " - площадью 30-35 квадратных метров\n",
    " - однокомнатная\n",
    " - кухня 6 квадратных метров\n",
    " - стоимость около 3 млн\n",
    " - 1-3 этаж 5-этажного дома\n",
    " - 10-15 километров до центра\n",
    " - до ближайшего парка 500 метров"
   ]
  },
  {
   "cell_type": "code",
   "execution_count": 47,
   "metadata": {
    "pycharm": {
     "name": "#%%\n"
    }
   },
   "outputs": [],
   "source": []
  }
 ],
 "metadata": {
  "ExecuteTimeLog": [
   {
    "duration": 375,
    "start_time": "2022-09-02T17:41:23.444Z"
   },
   {
    "duration": 240,
    "start_time": "2022-09-02T17:41:23.821Z"
   },
   {
    "duration": 230,
    "start_time": "2022-09-02T17:41:24.063Z"
   },
   {
    "duration": 0,
    "start_time": "2022-09-02T17:41:24.296Z"
   },
   {
    "duration": 0,
    "start_time": "2022-09-02T17:41:24.298Z"
   },
   {
    "duration": 0,
    "start_time": "2022-09-02T17:41:24.299Z"
   },
   {
    "duration": 0,
    "start_time": "2022-09-02T17:41:24.300Z"
   },
   {
    "duration": 0,
    "start_time": "2022-09-02T17:41:24.303Z"
   },
   {
    "duration": 0,
    "start_time": "2022-09-02T17:41:24.303Z"
   },
   {
    "duration": 0,
    "start_time": "2022-09-02T17:41:24.304Z"
   },
   {
    "duration": 0,
    "start_time": "2022-09-02T17:41:24.305Z"
   },
   {
    "duration": 0,
    "start_time": "2022-09-02T17:41:24.306Z"
   },
   {
    "duration": 0,
    "start_time": "2022-09-02T17:41:24.307Z"
   },
   {
    "duration": 0,
    "start_time": "2022-09-02T17:41:24.309Z"
   },
   {
    "duration": 0,
    "start_time": "2022-09-02T17:41:24.310Z"
   },
   {
    "duration": 0,
    "start_time": "2022-09-02T17:41:24.311Z"
   },
   {
    "duration": 0,
    "start_time": "2022-09-02T17:41:24.312Z"
   },
   {
    "duration": 0,
    "start_time": "2022-09-02T17:41:24.314Z"
   },
   {
    "duration": 0,
    "start_time": "2022-09-02T17:41:24.315Z"
   },
   {
    "duration": 0,
    "start_time": "2022-09-02T17:41:24.316Z"
   },
   {
    "duration": 0,
    "start_time": "2022-09-02T17:41:24.317Z"
   },
   {
    "duration": 0,
    "start_time": "2022-09-02T17:41:24.318Z"
   },
   {
    "duration": 0,
    "start_time": "2022-09-02T17:41:24.319Z"
   },
   {
    "duration": 0,
    "start_time": "2022-09-02T17:41:24.321Z"
   },
   {
    "duration": 0,
    "start_time": "2022-09-02T17:41:24.322Z"
   },
   {
    "duration": 0,
    "start_time": "2022-09-02T17:41:24.323Z"
   },
   {
    "duration": 0,
    "start_time": "2022-09-02T17:41:24.324Z"
   },
   {
    "duration": 0,
    "start_time": "2022-09-02T17:41:24.325Z"
   },
   {
    "duration": 0,
    "start_time": "2022-09-02T17:41:24.326Z"
   },
   {
    "duration": 0,
    "start_time": "2022-09-02T17:41:24.327Z"
   },
   {
    "duration": 0,
    "start_time": "2022-09-02T17:41:24.328Z"
   },
   {
    "duration": 0,
    "start_time": "2022-09-02T17:41:24.329Z"
   },
   {
    "duration": 0,
    "start_time": "2022-09-02T17:41:24.330Z"
   },
   {
    "duration": 0,
    "start_time": "2022-09-02T17:41:24.331Z"
   },
   {
    "duration": 0,
    "start_time": "2022-09-02T17:41:24.332Z"
   },
   {
    "duration": 0,
    "start_time": "2022-09-02T17:41:24.333Z"
   },
   {
    "duration": 0,
    "start_time": "2022-09-02T17:41:24.334Z"
   },
   {
    "duration": 0,
    "start_time": "2022-09-02T17:41:24.335Z"
   },
   {
    "duration": 0,
    "start_time": "2022-09-02T17:41:24.336Z"
   },
   {
    "duration": 0,
    "start_time": "2022-09-02T17:41:24.337Z"
   },
   {
    "duration": 0,
    "start_time": "2022-09-02T17:41:24.338Z"
   },
   {
    "duration": 0,
    "start_time": "2022-09-02T17:41:24.339Z"
   },
   {
    "duration": 0,
    "start_time": "2022-09-02T17:41:24.340Z"
   },
   {
    "duration": 0,
    "start_time": "2022-09-02T17:41:24.341Z"
   },
   {
    "duration": 0,
    "start_time": "2022-09-02T17:41:24.403Z"
   },
   {
    "duration": 0,
    "start_time": "2022-09-02T17:41:24.404Z"
   },
   {
    "duration": 1,
    "start_time": "2022-09-02T17:41:24.405Z"
   },
   {
    "duration": 1,
    "start_time": "2022-09-02T17:41:24.406Z"
   },
   {
    "duration": 46,
    "start_time": "2022-09-02T17:46:17.872Z"
   },
   {
    "duration": 416,
    "start_time": "2022-09-02T17:46:24.051Z"
   },
   {
    "duration": 228,
    "start_time": "2022-09-02T17:46:25.133Z"
   },
   {
    "duration": 342,
    "start_time": "2022-09-02T17:46:28.378Z"
   },
   {
    "duration": 13,
    "start_time": "2022-09-02T17:50:49.385Z"
   },
   {
    "duration": 10,
    "start_time": "2022-09-02T17:52:23.426Z"
   },
   {
    "duration": 3,
    "start_time": "2022-09-02T17:59:07.551Z"
   },
   {
    "duration": 315,
    "start_time": "2022-09-02T17:59:20.704Z"
   },
   {
    "duration": 1947,
    "start_time": "2022-09-02T17:59:23.578Z"
   },
   {
    "duration": 1830,
    "start_time": "2022-09-02T17:59:33.591Z"
   },
   {
    "duration": 440,
    "start_time": "2022-09-02T18:00:45.245Z"
   },
   {
    "duration": 199,
    "start_time": "2022-09-02T18:00:45.687Z"
   },
   {
    "duration": 1930,
    "start_time": "2022-09-02T18:00:45.887Z"
   },
   {
    "duration": 27,
    "start_time": "2022-09-02T18:00:47.819Z"
   },
   {
    "duration": 9,
    "start_time": "2022-09-02T18:00:47.848Z"
   },
   {
    "duration": 20,
    "start_time": "2022-09-02T18:00:47.858Z"
   },
   {
    "duration": 102,
    "start_time": "2022-09-02T18:00:47.880Z"
   },
   {
    "duration": 14,
    "start_time": "2022-09-02T18:00:47.984Z"
   },
   {
    "duration": 15,
    "start_time": "2022-09-02T18:00:48.000Z"
   },
   {
    "duration": 27,
    "start_time": "2022-09-02T18:00:48.018Z"
   },
   {
    "duration": 145,
    "start_time": "2022-09-02T18:00:48.047Z"
   },
   {
    "duration": 118,
    "start_time": "2022-09-02T18:00:48.194Z"
   },
   {
    "duration": 12,
    "start_time": "2022-09-02T18:00:48.314Z"
   },
   {
    "duration": 9,
    "start_time": "2022-09-02T18:00:48.338Z"
   },
   {
    "duration": 113,
    "start_time": "2022-09-02T18:00:48.349Z"
   },
   {
    "duration": 98,
    "start_time": "2022-09-02T18:00:48.464Z"
   },
   {
    "duration": 0,
    "start_time": "2022-09-02T18:00:48.564Z"
   },
   {
    "duration": 0,
    "start_time": "2022-09-02T18:00:48.565Z"
   },
   {
    "duration": 0,
    "start_time": "2022-09-02T18:00:48.566Z"
   },
   {
    "duration": 0,
    "start_time": "2022-09-02T18:00:48.567Z"
   },
   {
    "duration": 0,
    "start_time": "2022-09-02T18:00:48.568Z"
   },
   {
    "duration": 0,
    "start_time": "2022-09-02T18:00:48.569Z"
   },
   {
    "duration": 0,
    "start_time": "2022-09-02T18:00:48.570Z"
   },
   {
    "duration": 0,
    "start_time": "2022-09-02T18:00:48.571Z"
   },
   {
    "duration": 0,
    "start_time": "2022-09-02T18:00:48.572Z"
   },
   {
    "duration": 0,
    "start_time": "2022-09-02T18:00:48.573Z"
   },
   {
    "duration": 0,
    "start_time": "2022-09-02T18:00:48.574Z"
   },
   {
    "duration": 0,
    "start_time": "2022-09-02T18:00:48.575Z"
   },
   {
    "duration": 0,
    "start_time": "2022-09-02T18:00:48.576Z"
   },
   {
    "duration": 0,
    "start_time": "2022-09-02T18:00:48.577Z"
   },
   {
    "duration": 0,
    "start_time": "2022-09-02T18:00:48.578Z"
   },
   {
    "duration": 0,
    "start_time": "2022-09-02T18:00:48.579Z"
   },
   {
    "duration": 0,
    "start_time": "2022-09-02T18:00:48.580Z"
   },
   {
    "duration": 0,
    "start_time": "2022-09-02T18:00:48.581Z"
   },
   {
    "duration": 0,
    "start_time": "2022-09-02T18:00:48.582Z"
   },
   {
    "duration": 0,
    "start_time": "2022-09-02T18:00:48.583Z"
   },
   {
    "duration": 1,
    "start_time": "2022-09-02T18:00:48.583Z"
   },
   {
    "duration": 0,
    "start_time": "2022-09-02T18:00:48.584Z"
   },
   {
    "duration": 0,
    "start_time": "2022-09-02T18:00:48.586Z"
   },
   {
    "duration": 0,
    "start_time": "2022-09-02T18:00:48.586Z"
   },
   {
    "duration": 0,
    "start_time": "2022-09-02T18:00:48.587Z"
   },
   {
    "duration": 0,
    "start_time": "2022-09-02T18:00:48.588Z"
   },
   {
    "duration": 0,
    "start_time": "2022-09-02T18:00:48.589Z"
   },
   {
    "duration": 0,
    "start_time": "2022-09-02T18:00:48.590Z"
   },
   {
    "duration": 0,
    "start_time": "2022-09-02T18:00:48.591Z"
   },
   {
    "duration": 0,
    "start_time": "2022-09-02T18:00:48.592Z"
   },
   {
    "duration": 0,
    "start_time": "2022-09-02T18:00:48.593Z"
   },
   {
    "duration": 0,
    "start_time": "2022-09-02T18:00:48.639Z"
   },
   {
    "duration": 291,
    "start_time": "2022-09-02T18:09:35.456Z"
   },
   {
    "duration": 44,
    "start_time": "2022-09-02T18:11:08.322Z"
   },
   {
    "duration": 4,
    "start_time": "2022-09-02T18:11:19.627Z"
   },
   {
    "duration": 862,
    "start_time": "2022-09-02T18:11:51.378Z"
   },
   {
    "duration": 4,
    "start_time": "2022-09-02T18:12:51.226Z"
   },
   {
    "duration": 432,
    "start_time": "2022-09-02T18:13:23.276Z"
   },
   {
    "duration": 716,
    "start_time": "2022-09-02T18:13:23.711Z"
   },
   {
    "duration": 1935,
    "start_time": "2022-09-02T18:13:24.430Z"
   },
   {
    "duration": 29,
    "start_time": "2022-09-02T18:13:26.368Z"
   },
   {
    "duration": 10,
    "start_time": "2022-09-02T18:13:26.399Z"
   },
   {
    "duration": 13,
    "start_time": "2022-09-02T18:13:26.410Z"
   },
   {
    "duration": 85,
    "start_time": "2022-09-02T18:13:26.438Z"
   },
   {
    "duration": 27,
    "start_time": "2022-09-02T18:13:26.525Z"
   },
   {
    "duration": 16,
    "start_time": "2022-09-02T18:13:26.553Z"
   },
   {
    "duration": 9,
    "start_time": "2022-09-02T18:13:26.571Z"
   },
   {
    "duration": 161,
    "start_time": "2022-09-02T18:13:26.581Z"
   },
   {
    "duration": 124,
    "start_time": "2022-09-02T18:13:26.744Z"
   },
   {
    "duration": 13,
    "start_time": "2022-09-02T18:13:26.871Z"
   },
   {
    "duration": 11,
    "start_time": "2022-09-02T18:13:26.886Z"
   },
   {
    "duration": 125,
    "start_time": "2022-09-02T18:13:26.898Z"
   },
   {
    "duration": 3,
    "start_time": "2022-09-02T18:13:27.025Z"
   },
   {
    "duration": 94,
    "start_time": "2022-09-02T18:13:27.029Z"
   },
   {
    "duration": 0,
    "start_time": "2022-09-02T18:13:27.139Z"
   },
   {
    "duration": 0,
    "start_time": "2022-09-02T18:13:27.140Z"
   },
   {
    "duration": 0,
    "start_time": "2022-09-02T18:13:27.142Z"
   },
   {
    "duration": 0,
    "start_time": "2022-09-02T18:13:27.142Z"
   },
   {
    "duration": 0,
    "start_time": "2022-09-02T18:13:27.143Z"
   },
   {
    "duration": 0,
    "start_time": "2022-09-02T18:13:27.144Z"
   },
   {
    "duration": 0,
    "start_time": "2022-09-02T18:13:27.145Z"
   },
   {
    "duration": 0,
    "start_time": "2022-09-02T18:13:27.146Z"
   },
   {
    "duration": 0,
    "start_time": "2022-09-02T18:13:27.147Z"
   },
   {
    "duration": 0,
    "start_time": "2022-09-02T18:13:27.148Z"
   },
   {
    "duration": 0,
    "start_time": "2022-09-02T18:13:27.149Z"
   },
   {
    "duration": 0,
    "start_time": "2022-09-02T18:13:27.150Z"
   },
   {
    "duration": 0,
    "start_time": "2022-09-02T18:13:27.151Z"
   },
   {
    "duration": 0,
    "start_time": "2022-09-02T18:13:27.152Z"
   },
   {
    "duration": 0,
    "start_time": "2022-09-02T18:13:27.153Z"
   },
   {
    "duration": 0,
    "start_time": "2022-09-02T18:13:27.154Z"
   },
   {
    "duration": 0,
    "start_time": "2022-09-02T18:13:27.156Z"
   },
   {
    "duration": 0,
    "start_time": "2022-09-02T18:13:27.157Z"
   },
   {
    "duration": 0,
    "start_time": "2022-09-02T18:13:27.158Z"
   },
   {
    "duration": 0,
    "start_time": "2022-09-02T18:13:27.159Z"
   },
   {
    "duration": 0,
    "start_time": "2022-09-02T18:13:27.160Z"
   },
   {
    "duration": 0,
    "start_time": "2022-09-02T18:13:27.161Z"
   },
   {
    "duration": 0,
    "start_time": "2022-09-02T18:13:27.161Z"
   },
   {
    "duration": 0,
    "start_time": "2022-09-02T18:13:27.162Z"
   },
   {
    "duration": 0,
    "start_time": "2022-09-02T18:13:27.163Z"
   },
   {
    "duration": 0,
    "start_time": "2022-09-02T18:13:27.165Z"
   },
   {
    "duration": 0,
    "start_time": "2022-09-02T18:13:27.166Z"
   },
   {
    "duration": 0,
    "start_time": "2022-09-02T18:13:27.167Z"
   },
   {
    "duration": 0,
    "start_time": "2022-09-02T18:13:27.168Z"
   },
   {
    "duration": 0,
    "start_time": "2022-09-02T18:13:27.169Z"
   },
   {
    "duration": 0,
    "start_time": "2022-09-02T18:13:27.170Z"
   },
   {
    "duration": 4,
    "start_time": "2022-09-02T18:14:22.418Z"
   },
   {
    "duration": 12,
    "start_time": "2022-09-02T18:19:49.380Z"
   },
   {
    "duration": 421,
    "start_time": "2022-09-02T18:20:31.619Z"
   },
   {
    "duration": 234,
    "start_time": "2022-09-02T18:20:32.042Z"
   },
   {
    "duration": 2140,
    "start_time": "2022-09-02T18:20:32.277Z"
   },
   {
    "duration": 29,
    "start_time": "2022-09-02T18:20:34.419Z"
   },
   {
    "duration": 9,
    "start_time": "2022-09-02T18:20:34.450Z"
   },
   {
    "duration": 18,
    "start_time": "2022-09-02T18:20:34.461Z"
   },
   {
    "duration": 110,
    "start_time": "2022-09-02T18:20:34.481Z"
   },
   {
    "duration": 16,
    "start_time": "2022-09-02T18:20:34.593Z"
   },
   {
    "duration": 35,
    "start_time": "2022-09-02T18:20:34.611Z"
   },
   {
    "duration": 9,
    "start_time": "2022-09-02T18:20:34.648Z"
   },
   {
    "duration": 155,
    "start_time": "2022-09-02T18:20:34.658Z"
   },
   {
    "duration": 128,
    "start_time": "2022-09-02T18:20:34.814Z"
   },
   {
    "duration": 15,
    "start_time": "2022-09-02T18:20:34.943Z"
   },
   {
    "duration": 8,
    "start_time": "2022-09-02T18:20:34.959Z"
   },
   {
    "duration": 139,
    "start_time": "2022-09-02T18:20:34.968Z"
   },
   {
    "duration": 4,
    "start_time": "2022-09-02T18:20:35.109Z"
   },
   {
    "duration": 84,
    "start_time": "2022-09-02T18:20:35.116Z"
   },
   {
    "duration": 0,
    "start_time": "2022-09-02T18:20:35.202Z"
   },
   {
    "duration": 0,
    "start_time": "2022-09-02T18:20:35.203Z"
   },
   {
    "duration": 0,
    "start_time": "2022-09-02T18:20:35.205Z"
   },
   {
    "duration": 0,
    "start_time": "2022-09-02T18:20:35.205Z"
   },
   {
    "duration": 0,
    "start_time": "2022-09-02T18:20:35.206Z"
   },
   {
    "duration": 0,
    "start_time": "2022-09-02T18:20:35.207Z"
   },
   {
    "duration": 0,
    "start_time": "2022-09-02T18:20:35.208Z"
   },
   {
    "duration": 0,
    "start_time": "2022-09-02T18:20:35.209Z"
   },
   {
    "duration": 0,
    "start_time": "2022-09-02T18:20:35.210Z"
   },
   {
    "duration": 0,
    "start_time": "2022-09-02T18:20:35.212Z"
   },
   {
    "duration": 0,
    "start_time": "2022-09-02T18:20:35.213Z"
   },
   {
    "duration": 0,
    "start_time": "2022-09-02T18:20:35.214Z"
   },
   {
    "duration": 0,
    "start_time": "2022-09-02T18:20:35.215Z"
   },
   {
    "duration": 0,
    "start_time": "2022-09-02T18:20:35.215Z"
   },
   {
    "duration": 0,
    "start_time": "2022-09-02T18:20:35.238Z"
   },
   {
    "duration": 0,
    "start_time": "2022-09-02T18:20:35.239Z"
   },
   {
    "duration": 0,
    "start_time": "2022-09-02T18:20:35.240Z"
   },
   {
    "duration": 0,
    "start_time": "2022-09-02T18:20:35.241Z"
   },
   {
    "duration": 0,
    "start_time": "2022-09-02T18:20:35.242Z"
   },
   {
    "duration": 0,
    "start_time": "2022-09-02T18:20:35.243Z"
   },
   {
    "duration": 0,
    "start_time": "2022-09-02T18:20:35.244Z"
   },
   {
    "duration": 0,
    "start_time": "2022-09-02T18:20:35.244Z"
   },
   {
    "duration": 0,
    "start_time": "2022-09-02T18:20:35.245Z"
   },
   {
    "duration": 0,
    "start_time": "2022-09-02T18:20:35.246Z"
   },
   {
    "duration": 0,
    "start_time": "2022-09-02T18:20:35.247Z"
   },
   {
    "duration": 0,
    "start_time": "2022-09-02T18:20:35.248Z"
   },
   {
    "duration": 0,
    "start_time": "2022-09-02T18:20:35.249Z"
   },
   {
    "duration": 0,
    "start_time": "2022-09-02T18:20:35.250Z"
   },
   {
    "duration": 0,
    "start_time": "2022-09-02T18:20:35.251Z"
   },
   {
    "duration": 0,
    "start_time": "2022-09-02T18:20:35.252Z"
   },
   {
    "duration": 0,
    "start_time": "2022-09-02T18:20:35.253Z"
   },
   {
    "duration": 12,
    "start_time": "2022-09-02T18:22:56.805Z"
   },
   {
    "duration": 10,
    "start_time": "2022-09-02T18:23:47.217Z"
   },
   {
    "duration": 5,
    "start_time": "2022-09-02T18:25:56.241Z"
   },
   {
    "duration": 331,
    "start_time": "2022-09-02T18:28:11.292Z"
   },
   {
    "duration": 265,
    "start_time": "2022-09-02T18:28:11.624Z"
   },
   {
    "duration": 1975,
    "start_time": "2022-09-02T18:28:11.890Z"
   },
   {
    "duration": 27,
    "start_time": "2022-09-02T18:28:13.869Z"
   },
   {
    "duration": 9,
    "start_time": "2022-09-02T18:28:13.898Z"
   },
   {
    "duration": 14,
    "start_time": "2022-09-02T18:28:13.908Z"
   },
   {
    "duration": 86,
    "start_time": "2022-09-02T18:28:13.924Z"
   },
   {
    "duration": 28,
    "start_time": "2022-09-02T18:28:14.011Z"
   },
   {
    "duration": 16,
    "start_time": "2022-09-02T18:28:14.040Z"
   },
   {
    "duration": 8,
    "start_time": "2022-09-02T18:28:14.059Z"
   },
   {
    "duration": 153,
    "start_time": "2022-09-02T18:28:14.068Z"
   },
   {
    "duration": 126,
    "start_time": "2022-09-02T18:28:14.222Z"
   },
   {
    "duration": 13,
    "start_time": "2022-09-02T18:28:14.349Z"
   },
   {
    "duration": 8,
    "start_time": "2022-09-02T18:28:14.363Z"
   },
   {
    "duration": 119,
    "start_time": "2022-09-02T18:28:14.373Z"
   },
   {
    "duration": 4,
    "start_time": "2022-09-02T18:28:14.494Z"
   },
   {
    "duration": 14,
    "start_time": "2022-09-02T18:28:14.499Z"
   },
   {
    "duration": 26,
    "start_time": "2022-09-02T18:28:14.514Z"
   },
   {
    "duration": 249,
    "start_time": "2022-09-02T18:28:14.542Z"
   },
   {
    "duration": 3,
    "start_time": "2022-09-02T18:28:14.793Z"
   },
   {
    "duration": 27,
    "start_time": "2022-09-02T18:28:14.797Z"
   },
   {
    "duration": 185,
    "start_time": "2022-09-02T18:28:14.826Z"
   },
   {
    "duration": 184,
    "start_time": "2022-09-02T18:28:15.012Z"
   },
   {
    "duration": 261,
    "start_time": "2022-09-02T18:28:15.198Z"
   },
   {
    "duration": 195,
    "start_time": "2022-09-02T18:28:15.461Z"
   },
   {
    "duration": 191,
    "start_time": "2022-09-02T18:28:15.658Z"
   },
   {
    "duration": 182,
    "start_time": "2022-09-02T18:28:15.850Z"
   },
   {
    "duration": 193,
    "start_time": "2022-09-02T18:28:16.037Z"
   },
   {
    "duration": 187,
    "start_time": "2022-09-02T18:28:16.232Z"
   },
   {
    "duration": 188,
    "start_time": "2022-09-02T18:28:16.421Z"
   },
   {
    "duration": 199,
    "start_time": "2022-09-02T18:28:16.610Z"
   },
   {
    "duration": 192,
    "start_time": "2022-09-02T18:28:16.810Z"
   },
   {
    "duration": 196,
    "start_time": "2022-09-02T18:28:17.004Z"
   },
   {
    "duration": 167,
    "start_time": "2022-09-02T18:28:17.202Z"
   },
   {
    "duration": 199,
    "start_time": "2022-09-02T18:28:17.371Z"
   },
   {
    "duration": 235,
    "start_time": "2022-09-02T18:28:17.571Z"
   },
   {
    "duration": 6,
    "start_time": "2022-09-02T18:28:17.808Z"
   },
   {
    "duration": 465,
    "start_time": "2022-09-02T18:28:17.815Z"
   },
   {
    "duration": 113,
    "start_time": "2022-09-02T18:28:18.281Z"
   },
   {
    "duration": 0,
    "start_time": "2022-09-02T18:28:18.395Z"
   },
   {
    "duration": 0,
    "start_time": "2022-09-02T18:28:18.396Z"
   },
   {
    "duration": 0,
    "start_time": "2022-09-02T18:28:18.397Z"
   },
   {
    "duration": 0,
    "start_time": "2022-09-02T18:28:18.398Z"
   },
   {
    "duration": 0,
    "start_time": "2022-09-02T18:28:18.399Z"
   },
   {
    "duration": 0,
    "start_time": "2022-09-02T18:28:18.400Z"
   },
   {
    "duration": 0,
    "start_time": "2022-09-02T18:28:18.401Z"
   },
   {
    "duration": 0,
    "start_time": "2022-09-02T18:28:18.402Z"
   },
   {
    "duration": 0,
    "start_time": "2022-09-02T18:28:18.403Z"
   },
   {
    "duration": 17,
    "start_time": "2022-09-02T18:29:06.890Z"
   },
   {
    "duration": 17,
    "start_time": "2022-09-02T18:29:32.949Z"
   },
   {
    "duration": 1108,
    "start_time": "2022-09-02T18:30:46.844Z"
   },
   {
    "duration": 780,
    "start_time": "2022-09-02T18:30:47.954Z"
   },
   {
    "duration": 1829,
    "start_time": "2022-09-02T18:30:48.736Z"
   },
   {
    "duration": 27,
    "start_time": "2022-09-02T18:30:50.567Z"
   },
   {
    "duration": 10,
    "start_time": "2022-09-02T18:30:50.595Z"
   },
   {
    "duration": 12,
    "start_time": "2022-09-02T18:30:50.606Z"
   },
   {
    "duration": 163,
    "start_time": "2022-09-02T18:30:50.620Z"
   },
   {
    "duration": 14,
    "start_time": "2022-09-02T18:30:50.784Z"
   },
   {
    "duration": 14,
    "start_time": "2022-09-02T18:30:50.800Z"
   },
   {
    "duration": 27,
    "start_time": "2022-09-02T18:30:50.816Z"
   },
   {
    "duration": 140,
    "start_time": "2022-09-02T18:30:50.844Z"
   },
   {
    "duration": 116,
    "start_time": "2022-09-02T18:30:50.986Z"
   },
   {
    "duration": 12,
    "start_time": "2022-09-02T18:30:51.103Z"
   },
   {
    "duration": 26,
    "start_time": "2022-09-02T18:30:51.116Z"
   },
   {
    "duration": 108,
    "start_time": "2022-09-02T18:30:51.144Z"
   },
   {
    "duration": 3,
    "start_time": "2022-09-02T18:30:51.253Z"
   },
   {
    "duration": 9,
    "start_time": "2022-09-02T18:30:51.257Z"
   },
   {
    "duration": 19,
    "start_time": "2022-09-02T18:30:51.268Z"
   },
   {
    "duration": 273,
    "start_time": "2022-09-02T18:30:51.288Z"
   },
   {
    "duration": 4,
    "start_time": "2022-09-02T18:30:51.563Z"
   },
   {
    "duration": 30,
    "start_time": "2022-09-02T18:30:51.568Z"
   },
   {
    "duration": 203,
    "start_time": "2022-09-02T18:30:51.600Z"
   },
   {
    "duration": 213,
    "start_time": "2022-09-02T18:30:51.805Z"
   },
   {
    "duration": 218,
    "start_time": "2022-09-02T18:30:52.020Z"
   },
   {
    "duration": 218,
    "start_time": "2022-09-02T18:30:52.240Z"
   },
   {
    "duration": 204,
    "start_time": "2022-09-02T18:30:52.460Z"
   },
   {
    "duration": 194,
    "start_time": "2022-09-02T18:30:52.666Z"
   },
   {
    "duration": 205,
    "start_time": "2022-09-02T18:30:52.864Z"
   },
   {
    "duration": 299,
    "start_time": "2022-09-02T18:30:53.070Z"
   },
   {
    "duration": 208,
    "start_time": "2022-09-02T18:30:53.370Z"
   },
   {
    "duration": 213,
    "start_time": "2022-09-02T18:30:53.580Z"
   },
   {
    "duration": 208,
    "start_time": "2022-09-02T18:30:53.795Z"
   },
   {
    "duration": 209,
    "start_time": "2022-09-02T18:30:54.005Z"
   },
   {
    "duration": 203,
    "start_time": "2022-09-02T18:30:54.215Z"
   },
   {
    "duration": 119,
    "start_time": "2022-09-02T18:30:54.420Z"
   },
   {
    "duration": 218,
    "start_time": "2022-09-02T18:30:54.541Z"
   },
   {
    "duration": 5,
    "start_time": "2022-09-02T18:30:54.761Z"
   },
   {
    "duration": 116,
    "start_time": "2022-09-02T18:30:54.768Z"
   },
   {
    "duration": 0,
    "start_time": "2022-09-02T18:30:54.886Z"
   },
   {
    "duration": 0,
    "start_time": "2022-09-02T18:30:54.887Z"
   },
   {
    "duration": 0,
    "start_time": "2022-09-02T18:30:54.887Z"
   },
   {
    "duration": 0,
    "start_time": "2022-09-02T18:30:54.888Z"
   },
   {
    "duration": 0,
    "start_time": "2022-09-02T18:30:54.889Z"
   },
   {
    "duration": 0,
    "start_time": "2022-09-02T18:30:54.890Z"
   },
   {
    "duration": 0,
    "start_time": "2022-09-02T18:30:54.891Z"
   },
   {
    "duration": 0,
    "start_time": "2022-09-02T18:30:54.892Z"
   },
   {
    "duration": 0,
    "start_time": "2022-09-02T18:30:54.892Z"
   },
   {
    "duration": 17,
    "start_time": "2022-09-02T18:37:09.380Z"
   },
   {
    "duration": 18,
    "start_time": "2022-09-02T18:37:18.789Z"
   },
   {
    "duration": 18,
    "start_time": "2022-09-02T18:37:46.482Z"
   },
   {
    "duration": 1168,
    "start_time": "2022-09-02T18:39:17.128Z"
   },
   {
    "duration": 275,
    "start_time": "2022-09-02T18:39:18.298Z"
   },
   {
    "duration": 1778,
    "start_time": "2022-09-02T18:39:18.575Z"
   },
   {
    "duration": 28,
    "start_time": "2022-09-02T18:39:20.355Z"
   },
   {
    "duration": 9,
    "start_time": "2022-09-02T18:39:20.384Z"
   },
   {
    "duration": 16,
    "start_time": "2022-09-02T18:39:20.395Z"
   },
   {
    "duration": 164,
    "start_time": "2022-09-02T18:39:20.412Z"
   },
   {
    "duration": 15,
    "start_time": "2022-09-02T18:39:20.577Z"
   },
   {
    "duration": 22,
    "start_time": "2022-09-02T18:39:20.593Z"
   },
   {
    "duration": 22,
    "start_time": "2022-09-02T18:39:20.617Z"
   },
   {
    "duration": 162,
    "start_time": "2022-09-02T18:39:20.641Z"
   },
   {
    "duration": 120,
    "start_time": "2022-09-02T18:39:20.804Z"
   },
   {
    "duration": 17,
    "start_time": "2022-09-02T18:39:20.926Z"
   },
   {
    "duration": 20,
    "start_time": "2022-09-02T18:39:20.945Z"
   },
   {
    "duration": 116,
    "start_time": "2022-09-02T18:39:20.966Z"
   },
   {
    "duration": 3,
    "start_time": "2022-09-02T18:39:21.083Z"
   },
   {
    "duration": 23,
    "start_time": "2022-09-02T18:39:21.087Z"
   },
   {
    "duration": 24,
    "start_time": "2022-09-02T18:39:21.111Z"
   },
   {
    "duration": 281,
    "start_time": "2022-09-02T18:39:21.136Z"
   },
   {
    "duration": 4,
    "start_time": "2022-09-02T18:39:21.419Z"
   },
   {
    "duration": 29,
    "start_time": "2022-09-02T18:39:21.424Z"
   },
   {
    "duration": 177,
    "start_time": "2022-09-02T18:39:21.454Z"
   },
   {
    "duration": 184,
    "start_time": "2022-09-02T18:39:21.639Z"
   },
   {
    "duration": 202,
    "start_time": "2022-09-02T18:39:21.824Z"
   },
   {
    "duration": 190,
    "start_time": "2022-09-02T18:39:22.027Z"
   },
   {
    "duration": 178,
    "start_time": "2022-09-02T18:39:22.219Z"
   },
   {
    "duration": 186,
    "start_time": "2022-09-02T18:39:22.399Z"
   },
   {
    "duration": 187,
    "start_time": "2022-09-02T18:39:22.588Z"
   },
   {
    "duration": 267,
    "start_time": "2022-09-02T18:39:22.776Z"
   },
   {
    "duration": 188,
    "start_time": "2022-09-02T18:39:23.045Z"
   },
   {
    "duration": 193,
    "start_time": "2022-09-02T18:39:23.235Z"
   },
   {
    "duration": 186,
    "start_time": "2022-09-02T18:39:23.430Z"
   },
   {
    "duration": 204,
    "start_time": "2022-09-02T18:39:23.617Z"
   },
   {
    "duration": 165,
    "start_time": "2022-09-02T18:39:23.823Z"
   },
   {
    "duration": 114,
    "start_time": "2022-09-02T18:39:23.989Z"
   },
   {
    "duration": 209,
    "start_time": "2022-09-02T18:39:24.105Z"
   },
   {
    "duration": 5,
    "start_time": "2022-09-02T18:39:24.315Z"
   },
   {
    "duration": 130,
    "start_time": "2022-09-02T18:39:24.322Z"
   },
   {
    "duration": 0,
    "start_time": "2022-09-02T18:39:24.454Z"
   },
   {
    "duration": 0,
    "start_time": "2022-09-02T18:39:24.455Z"
   },
   {
    "duration": 0,
    "start_time": "2022-09-02T18:39:24.457Z"
   },
   {
    "duration": 0,
    "start_time": "2022-09-02T18:39:24.458Z"
   },
   {
    "duration": 0,
    "start_time": "2022-09-02T18:39:24.459Z"
   },
   {
    "duration": 0,
    "start_time": "2022-09-02T18:39:24.460Z"
   },
   {
    "duration": 0,
    "start_time": "2022-09-02T18:39:24.462Z"
   },
   {
    "duration": 0,
    "start_time": "2022-09-02T18:39:24.463Z"
   },
   {
    "duration": 1,
    "start_time": "2022-09-02T18:39:24.464Z"
   },
   {
    "duration": 15,
    "start_time": "2022-09-02T18:40:54.617Z"
   },
   {
    "duration": 1118,
    "start_time": "2022-09-02T18:51:30.017Z"
   },
   {
    "duration": 268,
    "start_time": "2022-09-02T18:51:31.137Z"
   },
   {
    "duration": 1799,
    "start_time": "2022-09-02T18:51:31.406Z"
   },
   {
    "duration": 33,
    "start_time": "2022-09-02T18:51:33.207Z"
   },
   {
    "duration": 12,
    "start_time": "2022-09-02T18:51:33.242Z"
   },
   {
    "duration": 17,
    "start_time": "2022-09-02T18:51:33.255Z"
   },
   {
    "duration": 184,
    "start_time": "2022-09-02T18:51:33.274Z"
   },
   {
    "duration": 16,
    "start_time": "2022-09-02T18:51:33.459Z"
   },
   {
    "duration": 15,
    "start_time": "2022-09-02T18:51:33.477Z"
   },
   {
    "duration": 9,
    "start_time": "2022-09-02T18:51:33.494Z"
   },
   {
    "duration": 167,
    "start_time": "2022-09-02T18:51:33.504Z"
   },
   {
    "duration": 134,
    "start_time": "2022-09-02T18:51:33.673Z"
   },
   {
    "duration": 13,
    "start_time": "2022-09-02T18:51:33.809Z"
   },
   {
    "duration": 21,
    "start_time": "2022-09-02T18:51:33.823Z"
   },
   {
    "duration": 115,
    "start_time": "2022-09-02T18:51:33.846Z"
   },
   {
    "duration": 3,
    "start_time": "2022-09-02T18:51:33.962Z"
   },
   {
    "duration": 10,
    "start_time": "2022-09-02T18:51:33.967Z"
   },
   {
    "duration": 20,
    "start_time": "2022-09-02T18:51:33.978Z"
   },
   {
    "duration": 267,
    "start_time": "2022-09-02T18:51:34.000Z"
   },
   {
    "duration": 4,
    "start_time": "2022-09-02T18:51:34.269Z"
   },
   {
    "duration": 25,
    "start_time": "2022-09-02T18:51:34.275Z"
   },
   {
    "duration": 196,
    "start_time": "2022-09-02T18:51:34.302Z"
   },
   {
    "duration": 195,
    "start_time": "2022-09-02T18:51:34.500Z"
   },
   {
    "duration": 195,
    "start_time": "2022-09-02T18:51:34.697Z"
   },
   {
    "duration": 185,
    "start_time": "2022-09-02T18:51:34.894Z"
   },
   {
    "duration": 184,
    "start_time": "2022-09-02T18:51:35.081Z"
   },
   {
    "duration": 183,
    "start_time": "2022-09-02T18:51:35.267Z"
   },
   {
    "duration": 196,
    "start_time": "2022-09-02T18:51:35.453Z"
   },
   {
    "duration": 289,
    "start_time": "2022-09-02T18:51:35.652Z"
   },
   {
    "duration": 198,
    "start_time": "2022-09-02T18:51:35.943Z"
   },
   {
    "duration": 211,
    "start_time": "2022-09-02T18:51:36.143Z"
   },
   {
    "duration": 207,
    "start_time": "2022-09-02T18:51:36.356Z"
   },
   {
    "duration": 200,
    "start_time": "2022-09-02T18:51:36.564Z"
   },
   {
    "duration": 182,
    "start_time": "2022-09-02T18:51:36.766Z"
   },
   {
    "duration": 115,
    "start_time": "2022-09-02T18:51:36.949Z"
   },
   {
    "duration": 200,
    "start_time": "2022-09-02T18:51:37.065Z"
   },
   {
    "duration": 5,
    "start_time": "2022-09-02T18:51:37.266Z"
   },
   {
    "duration": 117,
    "start_time": "2022-09-02T18:51:37.272Z"
   },
   {
    "duration": 0,
    "start_time": "2022-09-02T18:51:37.390Z"
   },
   {
    "duration": 0,
    "start_time": "2022-09-02T18:51:37.392Z"
   },
   {
    "duration": 0,
    "start_time": "2022-09-02T18:51:37.392Z"
   },
   {
    "duration": 0,
    "start_time": "2022-09-02T18:51:37.393Z"
   },
   {
    "duration": 0,
    "start_time": "2022-09-02T18:51:37.394Z"
   },
   {
    "duration": 0,
    "start_time": "2022-09-02T18:51:37.395Z"
   },
   {
    "duration": 0,
    "start_time": "2022-09-02T18:51:37.396Z"
   },
   {
    "duration": 0,
    "start_time": "2022-09-02T18:51:37.397Z"
   },
   {
    "duration": 0,
    "start_time": "2022-09-02T18:51:37.398Z"
   },
   {
    "duration": 0,
    "start_time": "2022-09-02T18:51:37.399Z"
   },
   {
    "duration": 17,
    "start_time": "2022-09-02T18:56:43.901Z"
   },
   {
    "duration": 1069,
    "start_time": "2022-09-02T19:08:57.042Z"
   },
   {
    "duration": 192,
    "start_time": "2022-09-02T19:08:58.113Z"
   },
   {
    "duration": 1783,
    "start_time": "2022-09-02T19:08:58.306Z"
   },
   {
    "duration": 29,
    "start_time": "2022-09-02T19:09:00.090Z"
   },
   {
    "duration": 9,
    "start_time": "2022-09-02T19:09:00.120Z"
   },
   {
    "duration": 15,
    "start_time": "2022-09-02T19:09:00.131Z"
   },
   {
    "duration": 170,
    "start_time": "2022-09-02T19:09:00.148Z"
   },
   {
    "duration": 27,
    "start_time": "2022-09-02T19:09:00.319Z"
   },
   {
    "duration": 15,
    "start_time": "2022-09-02T19:09:00.347Z"
   },
   {
    "duration": 16,
    "start_time": "2022-09-02T19:09:00.364Z"
   },
   {
    "duration": 140,
    "start_time": "2022-09-02T19:09:00.382Z"
   },
   {
    "duration": 130,
    "start_time": "2022-09-02T19:09:00.524Z"
   },
   {
    "duration": 14,
    "start_time": "2022-09-02T19:09:00.656Z"
   },
   {
    "duration": 9,
    "start_time": "2022-09-02T19:09:00.672Z"
   },
   {
    "duration": 136,
    "start_time": "2022-09-02T19:09:00.683Z"
   },
   {
    "duration": 4,
    "start_time": "2022-09-02T19:09:00.821Z"
   },
   {
    "duration": 6,
    "start_time": "2022-09-02T19:09:00.837Z"
   },
   {
    "duration": 21,
    "start_time": "2022-09-02T19:09:00.845Z"
   },
   {
    "duration": 275,
    "start_time": "2022-09-02T19:09:00.868Z"
   },
   {
    "duration": 4,
    "start_time": "2022-09-02T19:09:01.145Z"
   },
   {
    "duration": 33,
    "start_time": "2022-09-02T19:09:01.151Z"
   },
   {
    "duration": 182,
    "start_time": "2022-09-02T19:09:01.185Z"
   },
   {
    "duration": 211,
    "start_time": "2022-09-02T19:09:01.369Z"
   },
   {
    "duration": 206,
    "start_time": "2022-09-02T19:09:01.581Z"
   },
   {
    "duration": 200,
    "start_time": "2022-09-02T19:09:01.789Z"
   },
   {
    "duration": 184,
    "start_time": "2022-09-02T19:09:01.990Z"
   },
   {
    "duration": 184,
    "start_time": "2022-09-02T19:09:02.176Z"
   },
   {
    "duration": 196,
    "start_time": "2022-09-02T19:09:02.363Z"
   },
   {
    "duration": 280,
    "start_time": "2022-09-02T19:09:02.560Z"
   },
   {
    "duration": 188,
    "start_time": "2022-09-02T19:09:02.842Z"
   },
   {
    "duration": 199,
    "start_time": "2022-09-02T19:09:03.031Z"
   },
   {
    "duration": 196,
    "start_time": "2022-09-02T19:09:03.232Z"
   },
   {
    "duration": 202,
    "start_time": "2022-09-02T19:09:03.430Z"
   },
   {
    "duration": 175,
    "start_time": "2022-09-02T19:09:03.634Z"
   },
   {
    "duration": 118,
    "start_time": "2022-09-02T19:09:03.811Z"
   },
   {
    "duration": 210,
    "start_time": "2022-09-02T19:09:03.930Z"
   },
   {
    "duration": 5,
    "start_time": "2022-09-02T19:09:04.142Z"
   },
   {
    "duration": 123,
    "start_time": "2022-09-02T19:09:04.149Z"
   },
   {
    "duration": 0,
    "start_time": "2022-09-02T19:09:04.274Z"
   },
   {
    "duration": 0,
    "start_time": "2022-09-02T19:09:04.275Z"
   },
   {
    "duration": 0,
    "start_time": "2022-09-02T19:09:04.276Z"
   },
   {
    "duration": 0,
    "start_time": "2022-09-02T19:09:04.278Z"
   },
   {
    "duration": 0,
    "start_time": "2022-09-02T19:09:04.279Z"
   },
   {
    "duration": 0,
    "start_time": "2022-09-02T19:09:04.280Z"
   },
   {
    "duration": 0,
    "start_time": "2022-09-02T19:09:04.281Z"
   },
   {
    "duration": 0,
    "start_time": "2022-09-02T19:09:04.282Z"
   },
   {
    "duration": 0,
    "start_time": "2022-09-02T19:09:04.283Z"
   },
   {
    "duration": 10,
    "start_time": "2022-09-02T19:10:36.311Z"
   },
   {
    "duration": 10,
    "start_time": "2022-09-02T19:11:54.042Z"
   },
   {
    "duration": 9,
    "start_time": "2022-09-02T19:12:00.648Z"
   },
   {
    "duration": 16,
    "start_time": "2022-09-02T19:12:45.451Z"
   },
   {
    "duration": 19,
    "start_time": "2022-09-02T19:13:20.421Z"
   },
   {
    "duration": 868,
    "start_time": "2022-09-02T19:13:34.559Z"
   },
   {
    "duration": 19,
    "start_time": "2022-09-02T19:13:43.814Z"
   },
   {
    "duration": 21,
    "start_time": "2022-09-02T19:13:57.534Z"
   },
   {
    "duration": 24,
    "start_time": "2022-09-02T19:14:41.371Z"
   },
   {
    "duration": 23,
    "start_time": "2022-09-02T19:15:24.897Z"
   },
   {
    "duration": 385,
    "start_time": "2022-09-02T19:16:01.149Z"
   },
   {
    "duration": 480,
    "start_time": "2022-09-02T19:16:16.585Z"
   },
   {
    "duration": 801,
    "start_time": "2022-09-02T19:18:33.395Z"
   },
   {
    "duration": 1110,
    "start_time": "2022-09-02T19:18:59.017Z"
   },
   {
    "duration": 235,
    "start_time": "2022-09-02T19:19:00.128Z"
   },
   {
    "duration": 1765,
    "start_time": "2022-09-02T19:19:00.364Z"
   },
   {
    "duration": 28,
    "start_time": "2022-09-02T19:19:02.131Z"
   },
   {
    "duration": 9,
    "start_time": "2022-09-02T19:19:02.161Z"
   },
   {
    "duration": 29,
    "start_time": "2022-09-02T19:19:02.171Z"
   },
   {
    "duration": 171,
    "start_time": "2022-09-02T19:19:02.202Z"
   },
   {
    "duration": 16,
    "start_time": "2022-09-02T19:19:02.374Z"
   },
   {
    "duration": 16,
    "start_time": "2022-09-02T19:19:02.391Z"
   },
   {
    "duration": 31,
    "start_time": "2022-09-02T19:19:02.409Z"
   },
   {
    "duration": 156,
    "start_time": "2022-09-02T19:19:02.442Z"
   },
   {
    "duration": 120,
    "start_time": "2022-09-02T19:19:02.599Z"
   },
   {
    "duration": 24,
    "start_time": "2022-09-02T19:19:02.721Z"
   },
   {
    "duration": 9,
    "start_time": "2022-09-02T19:19:02.747Z"
   },
   {
    "duration": 120,
    "start_time": "2022-09-02T19:19:02.757Z"
   },
   {
    "duration": 3,
    "start_time": "2022-09-02T19:19:02.878Z"
   },
   {
    "duration": 7,
    "start_time": "2022-09-02T19:19:02.883Z"
   },
   {
    "duration": 17,
    "start_time": "2022-09-02T19:19:02.892Z"
   },
   {
    "duration": 266,
    "start_time": "2022-09-02T19:19:02.910Z"
   },
   {
    "duration": 4,
    "start_time": "2022-09-02T19:19:03.178Z"
   },
   {
    "duration": 23,
    "start_time": "2022-09-02T19:19:03.184Z"
   },
   {
    "duration": 190,
    "start_time": "2022-09-02T19:19:03.209Z"
   },
   {
    "duration": 194,
    "start_time": "2022-09-02T19:19:03.400Z"
   },
   {
    "duration": 202,
    "start_time": "2022-09-02T19:19:03.595Z"
   },
   {
    "duration": 198,
    "start_time": "2022-09-02T19:19:03.798Z"
   },
   {
    "duration": 188,
    "start_time": "2022-09-02T19:19:03.998Z"
   },
   {
    "duration": 209,
    "start_time": "2022-09-02T19:19:04.187Z"
   },
   {
    "duration": 197,
    "start_time": "2022-09-02T19:19:04.400Z"
   },
   {
    "duration": 265,
    "start_time": "2022-09-02T19:19:04.599Z"
   },
   {
    "duration": 190,
    "start_time": "2022-09-02T19:19:04.866Z"
   },
   {
    "duration": 192,
    "start_time": "2022-09-02T19:19:05.058Z"
   },
   {
    "duration": 194,
    "start_time": "2022-09-02T19:19:05.253Z"
   },
   {
    "duration": 201,
    "start_time": "2022-09-02T19:19:05.449Z"
   },
   {
    "duration": 174,
    "start_time": "2022-09-02T19:19:05.652Z"
   },
   {
    "duration": 119,
    "start_time": "2022-09-02T19:19:05.828Z"
   },
   {
    "duration": 211,
    "start_time": "2022-09-02T19:19:05.948Z"
   },
   {
    "duration": 5,
    "start_time": "2022-09-02T19:19:06.161Z"
   },
   {
    "duration": 456,
    "start_time": "2022-09-02T19:19:06.167Z"
   },
   {
    "duration": 106,
    "start_time": "2022-09-02T19:19:06.625Z"
   },
   {
    "duration": 0,
    "start_time": "2022-09-02T19:19:06.732Z"
   },
   {
    "duration": 0,
    "start_time": "2022-09-02T19:19:06.738Z"
   },
   {
    "duration": 0,
    "start_time": "2022-09-02T19:19:06.739Z"
   },
   {
    "duration": 0,
    "start_time": "2022-09-02T19:19:06.740Z"
   },
   {
    "duration": 0,
    "start_time": "2022-09-02T19:19:06.741Z"
   },
   {
    "duration": 0,
    "start_time": "2022-09-02T19:19:06.742Z"
   },
   {
    "duration": 0,
    "start_time": "2022-09-02T19:19:06.744Z"
   },
   {
    "duration": 0,
    "start_time": "2022-09-02T19:19:06.745Z"
   },
   {
    "duration": 9,
    "start_time": "2022-09-02T19:20:14.852Z"
   },
   {
    "duration": 436,
    "start_time": "2022-09-02T19:20:15.391Z"
   },
   {
    "duration": 363,
    "start_time": "2022-09-02T19:20:15.983Z"
   },
   {
    "duration": 23,
    "start_time": "2022-09-02T19:20:17.789Z"
   },
   {
    "duration": 8,
    "start_time": "2022-09-02T19:21:18.007Z"
   },
   {
    "duration": 312,
    "start_time": "2022-09-02T19:21:18.483Z"
   },
   {
    "duration": 293,
    "start_time": "2022-09-02T19:21:19.083Z"
   },
   {
    "duration": 15,
    "start_time": "2022-09-02T19:21:20.388Z"
   },
   {
    "duration": 10,
    "start_time": "2022-09-02T19:25:36.277Z"
   },
   {
    "duration": 339,
    "start_time": "2022-09-02T19:25:40.023Z"
   },
   {
    "duration": 303,
    "start_time": "2022-09-02T19:25:40.500Z"
   },
   {
    "duration": 145,
    "start_time": "2022-09-02T19:25:41.607Z"
   },
   {
    "duration": 113,
    "start_time": "2022-09-02T19:25:42.481Z"
   },
   {
    "duration": 124,
    "start_time": "2022-09-02T19:25:43.279Z"
   },
   {
    "duration": 154,
    "start_time": "2022-09-02T19:25:44.389Z"
   },
   {
    "duration": 128,
    "start_time": "2022-09-02T19:25:45.116Z"
   },
   {
    "duration": 886,
    "start_time": "2022-09-02T19:25:45.824Z"
   },
   {
    "duration": 21,
    "start_time": "2022-09-02T19:25:48.687Z"
   },
   {
    "duration": 2,
    "start_time": "2022-09-02T19:31:07.193Z"
   },
   {
    "duration": 321,
    "start_time": "2022-09-02T19:31:07.754Z"
   },
   {
    "duration": 1105,
    "start_time": "2022-09-02T19:31:15.710Z"
   },
   {
    "duration": 273,
    "start_time": "2022-09-02T19:31:16.817Z"
   },
   {
    "duration": 1734,
    "start_time": "2022-09-02T19:31:17.091Z"
   },
   {
    "duration": 32,
    "start_time": "2022-09-02T19:31:18.827Z"
   },
   {
    "duration": 10,
    "start_time": "2022-09-02T19:31:18.861Z"
   },
   {
    "duration": 24,
    "start_time": "2022-09-02T19:31:18.873Z"
   },
   {
    "duration": 201,
    "start_time": "2022-09-02T19:31:18.898Z"
   },
   {
    "duration": 15,
    "start_time": "2022-09-02T19:31:19.101Z"
   },
   {
    "duration": 29,
    "start_time": "2022-09-02T19:31:19.117Z"
   },
   {
    "duration": 8,
    "start_time": "2022-09-02T19:31:19.148Z"
   },
   {
    "duration": 147,
    "start_time": "2022-09-02T19:31:19.157Z"
   },
   {
    "duration": 133,
    "start_time": "2022-09-02T19:31:19.307Z"
   },
   {
    "duration": 13,
    "start_time": "2022-09-02T19:31:19.442Z"
   },
   {
    "duration": 10,
    "start_time": "2022-09-02T19:31:19.457Z"
   },
   {
    "duration": 115,
    "start_time": "2022-09-02T19:31:19.468Z"
   },
   {
    "duration": 3,
    "start_time": "2022-09-02T19:31:19.585Z"
   },
   {
    "duration": 8,
    "start_time": "2022-09-02T19:31:19.589Z"
   },
   {
    "duration": 17,
    "start_time": "2022-09-02T19:31:19.598Z"
   },
   {
    "duration": 272,
    "start_time": "2022-09-02T19:31:19.616Z"
   },
   {
    "duration": 4,
    "start_time": "2022-09-02T19:31:19.890Z"
   },
   {
    "duration": 23,
    "start_time": "2022-09-02T19:31:19.895Z"
   },
   {
    "duration": 190,
    "start_time": "2022-09-02T19:31:19.920Z"
   },
   {
    "duration": 189,
    "start_time": "2022-09-02T19:31:20.111Z"
   },
   {
    "duration": 197,
    "start_time": "2022-09-02T19:31:20.302Z"
   },
   {
    "duration": 187,
    "start_time": "2022-09-02T19:31:20.501Z"
   },
   {
    "duration": 177,
    "start_time": "2022-09-02T19:31:20.690Z"
   },
   {
    "duration": 183,
    "start_time": "2022-09-02T19:31:20.868Z"
   },
   {
    "duration": 197,
    "start_time": "2022-09-02T19:31:21.054Z"
   },
   {
    "duration": 279,
    "start_time": "2022-09-02T19:31:21.253Z"
   },
   {
    "duration": 190,
    "start_time": "2022-09-02T19:31:21.537Z"
   },
   {
    "duration": 185,
    "start_time": "2022-09-02T19:31:21.728Z"
   },
   {
    "duration": 190,
    "start_time": "2022-09-02T19:31:21.914Z"
   },
   {
    "duration": 202,
    "start_time": "2022-09-02T19:31:22.105Z"
   },
   {
    "duration": 175,
    "start_time": "2022-09-02T19:31:22.309Z"
   },
   {
    "duration": 121,
    "start_time": "2022-09-02T19:31:22.486Z"
   },
   {
    "duration": 202,
    "start_time": "2022-09-02T19:31:22.609Z"
   },
   {
    "duration": 5,
    "start_time": "2022-09-02T19:31:22.812Z"
   },
   {
    "duration": 6,
    "start_time": "2022-09-02T19:31:22.818Z"
   },
   {
    "duration": 115,
    "start_time": "2022-09-02T19:31:22.825Z"
   },
   {
    "duration": 0,
    "start_time": "2022-09-02T19:31:22.942Z"
   },
   {
    "duration": 0,
    "start_time": "2022-09-02T19:31:22.943Z"
   },
   {
    "duration": 0,
    "start_time": "2022-09-02T19:31:22.944Z"
   },
   {
    "duration": 0,
    "start_time": "2022-09-02T19:31:22.945Z"
   },
   {
    "duration": 0,
    "start_time": "2022-09-02T19:31:22.946Z"
   },
   {
    "duration": 0,
    "start_time": "2022-09-02T19:31:22.947Z"
   },
   {
    "duration": 0,
    "start_time": "2022-09-02T19:31:22.948Z"
   },
   {
    "duration": 0,
    "start_time": "2022-09-02T19:31:22.949Z"
   },
   {
    "duration": 0,
    "start_time": "2022-09-02T19:31:22.950Z"
   },
   {
    "duration": 20,
    "start_time": "2022-09-02T19:42:19.355Z"
   },
   {
    "duration": 392,
    "start_time": "2022-09-02T19:42:19.853Z"
   },
   {
    "duration": 407,
    "start_time": "2022-09-02T19:42:20.561Z"
   },
   {
    "duration": 143,
    "start_time": "2022-09-02T19:42:21.317Z"
   },
   {
    "duration": 115,
    "start_time": "2022-09-02T19:42:21.863Z"
   },
   {
    "duration": 126,
    "start_time": "2022-09-02T19:42:22.301Z"
   },
   {
    "duration": 151,
    "start_time": "2022-09-02T19:42:22.735Z"
   },
   {
    "duration": 126,
    "start_time": "2022-09-02T19:42:23.280Z"
   },
   {
    "duration": 670,
    "start_time": "2022-09-02T19:42:24.057Z"
   },
   {
    "duration": 23,
    "start_time": "2022-09-02T19:42:26.879Z"
   },
   {
    "duration": 1115,
    "start_time": "2022-09-02T19:49:57.222Z"
   },
   {
    "duration": 272,
    "start_time": "2022-09-02T19:49:58.339Z"
   },
   {
    "duration": 1796,
    "start_time": "2022-09-02T19:49:58.613Z"
   },
   {
    "duration": 31,
    "start_time": "2022-09-02T19:50:00.412Z"
   },
   {
    "duration": 11,
    "start_time": "2022-09-02T19:50:00.445Z"
   },
   {
    "duration": 15,
    "start_time": "2022-09-02T19:50:00.458Z"
   },
   {
    "duration": 197,
    "start_time": "2022-09-02T19:50:00.475Z"
   },
   {
    "duration": 15,
    "start_time": "2022-09-02T19:50:00.673Z"
   },
   {
    "duration": 14,
    "start_time": "2022-09-02T19:50:00.690Z"
   },
   {
    "duration": 33,
    "start_time": "2022-09-02T19:50:00.707Z"
   },
   {
    "duration": 142,
    "start_time": "2022-09-02T19:50:00.741Z"
   },
   {
    "duration": 123,
    "start_time": "2022-09-02T19:50:00.884Z"
   },
   {
    "duration": 14,
    "start_time": "2022-09-02T19:50:01.009Z"
   },
   {
    "duration": 22,
    "start_time": "2022-09-02T19:50:01.025Z"
   },
   {
    "duration": 138,
    "start_time": "2022-09-02T19:50:01.049Z"
   },
   {
    "duration": 19,
    "start_time": "2022-09-02T19:50:01.188Z"
   },
   {
    "duration": 19,
    "start_time": "2022-09-02T19:50:01.208Z"
   },
   {
    "duration": 38,
    "start_time": "2022-09-02T19:50:01.229Z"
   },
   {
    "duration": 52,
    "start_time": "2022-09-02T19:50:01.269Z"
   },
   {
    "duration": 275,
    "start_time": "2022-09-02T19:50:01.322Z"
   },
   {
    "duration": 4,
    "start_time": "2022-09-02T19:50:01.598Z"
   },
   {
    "duration": 51,
    "start_time": "2022-09-02T19:50:01.604Z"
   },
   {
    "duration": 208,
    "start_time": "2022-09-02T19:50:01.657Z"
   },
   {
    "duration": 196,
    "start_time": "2022-09-02T19:50:01.867Z"
   },
   {
    "duration": 205,
    "start_time": "2022-09-02T19:50:02.065Z"
   },
   {
    "duration": 203,
    "start_time": "2022-09-02T19:50:02.272Z"
   },
   {
    "duration": 196,
    "start_time": "2022-09-02T19:50:02.477Z"
   },
   {
    "duration": 197,
    "start_time": "2022-09-02T19:50:02.676Z"
   },
   {
    "duration": 201,
    "start_time": "2022-09-02T19:50:02.875Z"
   },
   {
    "duration": 290,
    "start_time": "2022-09-02T19:50:03.078Z"
   },
   {
    "duration": 196,
    "start_time": "2022-09-02T19:50:03.370Z"
   },
   {
    "duration": 216,
    "start_time": "2022-09-02T19:50:03.568Z"
   },
   {
    "duration": 213,
    "start_time": "2022-09-02T19:50:03.786Z"
   },
   {
    "duration": 229,
    "start_time": "2022-09-02T19:50:04.002Z"
   },
   {
    "duration": 190,
    "start_time": "2022-09-02T19:50:04.237Z"
   },
   {
    "duration": 128,
    "start_time": "2022-09-02T19:50:04.429Z"
   },
   {
    "duration": 222,
    "start_time": "2022-09-02T19:50:04.559Z"
   },
   {
    "duration": 5,
    "start_time": "2022-09-02T19:50:04.782Z"
   },
   {
    "duration": 410,
    "start_time": "2022-09-02T19:50:04.789Z"
   },
   {
    "duration": 410,
    "start_time": "2022-09-02T19:50:05.200Z"
   },
   {
    "duration": 153,
    "start_time": "2022-09-02T19:50:05.611Z"
   },
   {
    "duration": 122,
    "start_time": "2022-09-02T19:50:05.765Z"
   },
   {
    "duration": 130,
    "start_time": "2022-09-02T19:50:05.889Z"
   },
   {
    "duration": 170,
    "start_time": "2022-09-02T19:50:06.020Z"
   },
   {
    "duration": 138,
    "start_time": "2022-09-02T19:50:06.192Z"
   },
   {
    "duration": 601,
    "start_time": "2022-09-02T19:50:06.332Z"
   },
   {
    "duration": 206,
    "start_time": "2022-09-02T19:50:06.938Z"
   },
   {
    "duration": 190,
    "start_time": "2022-09-02T19:50:07.145Z"
   },
   {
    "duration": 1116,
    "start_time": "2022-09-03T19:16:33.094Z"
   },
   {
    "duration": 409,
    "start_time": "2022-09-03T19:16:34.212Z"
   },
   {
    "duration": 1979,
    "start_time": "2022-09-03T19:16:34.622Z"
   },
   {
    "duration": 29,
    "start_time": "2022-09-03T19:16:36.603Z"
   },
   {
    "duration": 11,
    "start_time": "2022-09-03T19:16:36.635Z"
   },
   {
    "duration": 17,
    "start_time": "2022-09-03T19:16:36.648Z"
   },
   {
    "duration": 185,
    "start_time": "2022-09-03T19:16:36.667Z"
   },
   {
    "duration": 15,
    "start_time": "2022-09-03T19:16:36.854Z"
   },
   {
    "duration": 37,
    "start_time": "2022-09-03T19:16:36.870Z"
   },
   {
    "duration": 9,
    "start_time": "2022-09-03T19:16:36.909Z"
   },
   {
    "duration": 149,
    "start_time": "2022-09-03T19:16:36.919Z"
   },
   {
    "duration": 135,
    "start_time": "2022-09-03T19:16:37.069Z"
   },
   {
    "duration": 12,
    "start_time": "2022-09-03T19:16:37.206Z"
   },
   {
    "duration": 15,
    "start_time": "2022-09-03T19:16:37.220Z"
   },
   {
    "duration": 125,
    "start_time": "2022-09-03T19:16:37.237Z"
   },
   {
    "duration": 32,
    "start_time": "2022-09-03T19:16:37.363Z"
   },
   {
    "duration": 9,
    "start_time": "2022-09-03T19:16:37.397Z"
   },
   {
    "duration": 7,
    "start_time": "2022-09-03T19:16:37.407Z"
   },
   {
    "duration": 23,
    "start_time": "2022-09-03T19:16:37.416Z"
   },
   {
    "duration": 289,
    "start_time": "2022-09-03T19:16:37.441Z"
   },
   {
    "duration": 4,
    "start_time": "2022-09-03T19:16:37.732Z"
   },
   {
    "duration": 42,
    "start_time": "2022-09-03T19:16:37.737Z"
   },
   {
    "duration": 187,
    "start_time": "2022-09-03T19:16:37.781Z"
   },
   {
    "duration": 230,
    "start_time": "2022-09-03T19:16:37.970Z"
   },
   {
    "duration": 213,
    "start_time": "2022-09-03T19:16:38.202Z"
   },
   {
    "duration": 213,
    "start_time": "2022-09-03T19:16:38.417Z"
   },
   {
    "duration": 194,
    "start_time": "2022-09-03T19:16:38.632Z"
   },
   {
    "duration": 201,
    "start_time": "2022-09-03T19:16:38.827Z"
   },
   {
    "duration": 216,
    "start_time": "2022-09-03T19:16:39.030Z"
   },
   {
    "duration": 298,
    "start_time": "2022-09-03T19:16:39.248Z"
   },
   {
    "duration": 206,
    "start_time": "2022-09-03T19:16:39.548Z"
   },
   {
    "duration": 217,
    "start_time": "2022-09-03T19:16:39.756Z"
   },
   {
    "duration": 230,
    "start_time": "2022-09-03T19:16:39.975Z"
   },
   {
    "duration": 237,
    "start_time": "2022-09-03T19:16:40.207Z"
   },
   {
    "duration": 196,
    "start_time": "2022-09-03T19:16:40.446Z"
   },
   {
    "duration": 143,
    "start_time": "2022-09-03T19:16:40.643Z"
   },
   {
    "duration": 220,
    "start_time": "2022-09-03T19:16:40.788Z"
   },
   {
    "duration": 5,
    "start_time": "2022-09-03T19:16:41.010Z"
   },
   {
    "duration": 458,
    "start_time": "2022-09-03T19:16:41.016Z"
   },
   {
    "duration": 463,
    "start_time": "2022-09-03T19:16:41.476Z"
   },
   {
    "duration": 166,
    "start_time": "2022-09-03T19:16:41.943Z"
   },
   {
    "duration": 128,
    "start_time": "2022-09-03T19:16:42.110Z"
   },
   {
    "duration": 140,
    "start_time": "2022-09-03T19:16:42.239Z"
   },
   {
    "duration": 173,
    "start_time": "2022-09-03T19:16:42.380Z"
   },
   {
    "duration": 151,
    "start_time": "2022-09-03T19:16:42.554Z"
   },
   {
    "duration": 622,
    "start_time": "2022-09-03T19:16:42.707Z"
   },
   {
    "duration": 219,
    "start_time": "2022-09-03T19:16:43.330Z"
   },
   {
    "duration": 208,
    "start_time": "2022-09-03T19:16:43.550Z"
   },
   {
    "duration": 7,
    "start_time": "2022-09-03T19:18:26.146Z"
   },
   {
    "duration": 17,
    "start_time": "2022-09-03T19:18:50.664Z"
   },
   {
    "duration": 77,
    "start_time": "2022-09-03T19:18:54.446Z"
   },
   {
    "duration": 6,
    "start_time": "2022-09-03T19:19:21.509Z"
   },
   {
    "duration": 42,
    "start_time": "2022-09-04T11:43:22.267Z"
   },
   {
    "duration": 1319,
    "start_time": "2022-09-04T11:43:26.938Z"
   },
   {
    "duration": 359,
    "start_time": "2022-09-04T11:43:28.259Z"
   },
   {
    "duration": 1754,
    "start_time": "2022-09-04T11:43:33.631Z"
   },
   {
    "duration": 2,
    "start_time": "2022-09-04T11:46:09.442Z"
   },
   {
    "duration": 311,
    "start_time": "2022-09-04T11:46:10.096Z"
   },
   {
    "duration": 1768,
    "start_time": "2022-09-04T11:46:11.445Z"
   },
   {
    "duration": 36,
    "start_time": "2022-09-04T11:46:13.216Z"
   },
   {
    "duration": 12,
    "start_time": "2022-09-04T11:46:13.667Z"
   },
   {
    "duration": 13,
    "start_time": "2022-09-04T11:46:14.547Z"
   },
   {
    "duration": 87,
    "start_time": "2022-09-04T11:46:15.472Z"
   },
   {
    "duration": 18,
    "start_time": "2022-09-04T11:46:17.761Z"
   },
   {
    "duration": 8,
    "start_time": "2022-09-04T11:46:18.633Z"
   },
   {
    "duration": 131,
    "start_time": "2022-09-04T11:46:19.107Z"
   },
   {
    "duration": 106,
    "start_time": "2022-09-04T11:46:20.080Z"
   },
   {
    "duration": 13,
    "start_time": "2022-09-04T11:46:20.643Z"
   },
   {
    "duration": 10,
    "start_time": "2022-09-04T11:46:21.706Z"
   },
   {
    "duration": 101,
    "start_time": "2022-09-04T11:46:22.212Z"
   },
   {
    "duration": 15,
    "start_time": "2022-09-04T11:46:22.703Z"
   },
   {
    "duration": 3,
    "start_time": "2022-09-04T11:46:23.958Z"
   },
   {
    "duration": 4,
    "start_time": "2022-09-04T11:46:26.061Z"
   },
   {
    "duration": 16,
    "start_time": "2022-09-04T11:46:26.533Z"
   },
   {
    "duration": 342,
    "start_time": "2022-09-04T11:46:27.407Z"
   },
   {
    "duration": 5,
    "start_time": "2022-09-04T11:46:27.751Z"
   },
   {
    "duration": 27,
    "start_time": "2022-09-04T11:46:29.006Z"
   },
   {
    "duration": 170,
    "start_time": "2022-09-04T11:46:31.960Z"
   },
   {
    "duration": 188,
    "start_time": "2022-09-04T11:46:33.661Z"
   },
   {
    "duration": 203,
    "start_time": "2022-09-04T11:46:34.967Z"
   },
   {
    "duration": 180,
    "start_time": "2022-09-04T11:46:35.873Z"
   },
   {
    "duration": 60,
    "start_time": "2022-09-04T11:46:37.872Z"
   },
   {
    "duration": 3,
    "start_time": "2022-09-04T11:47:22.932Z"
   },
   {
    "duration": 8,
    "start_time": "2022-09-04T11:47:27.931Z"
   },
   {
    "duration": 10,
    "start_time": "2022-09-04T11:47:43.871Z"
   },
   {
    "duration": 8,
    "start_time": "2022-09-04T11:48:10.104Z"
   },
   {
    "duration": 9,
    "start_time": "2022-09-04T11:48:18.731Z"
   },
   {
    "duration": 8,
    "start_time": "2022-09-04T11:48:41.575Z"
   },
   {
    "duration": 188,
    "start_time": "2022-09-04T11:48:53.437Z"
   },
   {
    "duration": 106,
    "start_time": "2022-09-04T11:49:19.851Z"
   },
   {
    "duration": 165,
    "start_time": "2022-09-04T11:49:33.004Z"
   },
   {
    "duration": 185,
    "start_time": "2022-09-04T11:49:37.204Z"
   },
   {
    "duration": 178,
    "start_time": "2022-09-04T11:49:40.496Z"
   },
   {
    "duration": 245,
    "start_time": "2022-09-04T11:49:43.774Z"
   },
   {
    "duration": 170,
    "start_time": "2022-09-04T11:49:46.953Z"
   },
   {
    "duration": 174,
    "start_time": "2022-09-04T11:49:50.604Z"
   },
   {
    "duration": 177,
    "start_time": "2022-09-04T11:49:55.047Z"
   },
   {
    "duration": 193,
    "start_time": "2022-09-04T11:49:58.961Z"
   },
   {
    "duration": 184,
    "start_time": "2022-09-04T11:50:02.447Z"
   },
   {
    "duration": 188,
    "start_time": "2022-09-04T11:50:05.674Z"
   },
   {
    "duration": 215,
    "start_time": "2022-09-04T11:50:08.940Z"
   },
   {
    "duration": 200,
    "start_time": "2022-09-04T11:50:11.671Z"
   },
   {
    "duration": 159,
    "start_time": "2022-09-04T11:50:14.905Z"
   },
   {
    "duration": 101,
    "start_time": "2022-09-04T11:50:18.060Z"
   },
   {
    "duration": 313,
    "start_time": "2022-09-04T11:50:38.677Z"
   },
   {
    "duration": 192,
    "start_time": "2022-09-04T11:51:26.960Z"
   },
   {
    "duration": 173,
    "start_time": "2022-09-04T11:51:31.458Z"
   },
   {
    "duration": 7,
    "start_time": "2022-09-04T11:51:52.074Z"
   },
   {
    "duration": 362,
    "start_time": "2022-09-04T11:52:06.250Z"
   },
   {
    "duration": 151,
    "start_time": "2022-09-04T11:52:13.634Z"
   },
   {
    "duration": 109,
    "start_time": "2022-09-04T11:52:19.379Z"
   },
   {
    "duration": 123,
    "start_time": "2022-09-04T11:52:24.523Z"
   },
   {
    "duration": 202,
    "start_time": "2022-09-04T11:52:28.784Z"
   },
   {
    "duration": 138,
    "start_time": "2022-09-04T11:52:33.643Z"
   },
   {
    "duration": 43,
    "start_time": "2022-09-04T11:56:25.803Z"
   },
   {
    "duration": 270,
    "start_time": "2022-09-04T11:57:45.966Z"
   },
   {
    "duration": 1130,
    "start_time": "2022-09-05T08:26:59.215Z"
   },
   {
    "duration": 300,
    "start_time": "2022-09-05T08:27:00.347Z"
   },
   {
    "duration": 2029,
    "start_time": "2022-09-05T08:27:00.649Z"
   },
   {
    "duration": 37,
    "start_time": "2022-09-05T08:27:02.681Z"
   },
   {
    "duration": 16,
    "start_time": "2022-09-05T08:27:02.719Z"
   },
   {
    "duration": 18,
    "start_time": "2022-09-05T08:27:02.737Z"
   },
   {
    "duration": 222,
    "start_time": "2022-09-05T08:27:02.757Z"
   },
   {
    "duration": 20,
    "start_time": "2022-09-05T08:27:02.986Z"
   },
   {
    "duration": 8,
    "start_time": "2022-09-05T08:27:03.008Z"
   },
   {
    "duration": 165,
    "start_time": "2022-09-05T08:27:03.019Z"
   },
   {
    "duration": 129,
    "start_time": "2022-09-05T08:27:03.185Z"
   },
   {
    "duration": 13,
    "start_time": "2022-09-05T08:27:03.316Z"
   },
   {
    "duration": 9,
    "start_time": "2022-09-05T08:27:03.330Z"
   },
   {
    "duration": 125,
    "start_time": "2022-09-05T08:27:03.340Z"
   },
   {
    "duration": 33,
    "start_time": "2022-09-05T08:27:03.467Z"
   },
   {
    "duration": 6,
    "start_time": "2022-09-05T08:27:03.503Z"
   },
   {
    "duration": 12,
    "start_time": "2022-09-05T08:27:03.510Z"
   },
   {
    "duration": 20,
    "start_time": "2022-09-05T08:27:03.523Z"
   },
   {
    "duration": 297,
    "start_time": "2022-09-05T08:27:03.544Z"
   },
   {
    "duration": 4,
    "start_time": "2022-09-05T08:27:03.843Z"
   },
   {
    "duration": 31,
    "start_time": "2022-09-05T08:27:03.848Z"
   },
   {
    "duration": 196,
    "start_time": "2022-09-05T08:27:03.885Z"
   },
   {
    "duration": 225,
    "start_time": "2022-09-05T08:27:04.084Z"
   },
   {
    "duration": 247,
    "start_time": "2022-09-05T08:27:04.310Z"
   },
   {
    "duration": 257,
    "start_time": "2022-09-05T08:27:04.559Z"
   },
   {
    "duration": 201,
    "start_time": "2022-09-05T08:27:04.818Z"
   },
   {
    "duration": 204,
    "start_time": "2022-09-05T08:27:05.021Z"
   },
   {
    "duration": 209,
    "start_time": "2022-09-05T08:27:05.228Z"
   },
   {
    "duration": 272,
    "start_time": "2022-09-05T08:27:05.439Z"
   },
   {
    "duration": 199,
    "start_time": "2022-09-05T08:27:05.712Z"
   },
   {
    "duration": 205,
    "start_time": "2022-09-05T08:27:05.913Z"
   },
   {
    "duration": 200,
    "start_time": "2022-09-05T08:27:06.120Z"
   },
   {
    "duration": 203,
    "start_time": "2022-09-05T08:27:06.321Z"
   },
   {
    "duration": 186,
    "start_time": "2022-09-05T08:27:06.526Z"
   },
   {
    "duration": 133,
    "start_time": "2022-09-05T08:27:06.714Z"
   },
   {
    "duration": 224,
    "start_time": "2022-09-05T08:27:06.849Z"
   },
   {
    "duration": 205,
    "start_time": "2022-09-05T08:27:07.075Z"
   },
   {
    "duration": 9,
    "start_time": "2022-09-05T08:27:07.284Z"
   },
   {
    "duration": 558,
    "start_time": "2022-09-05T08:27:07.296Z"
   },
   {
    "duration": 369,
    "start_time": "2022-09-05T08:27:07.856Z"
   },
   {
    "duration": 176,
    "start_time": "2022-09-05T08:27:08.228Z"
   },
   {
    "duration": 122,
    "start_time": "2022-09-05T08:27:08.406Z"
   },
   {
    "duration": 143,
    "start_time": "2022-09-05T08:27:08.529Z"
   },
   {
    "duration": 186,
    "start_time": "2022-09-05T08:27:08.673Z"
   },
   {
    "duration": 156,
    "start_time": "2022-09-05T08:27:08.860Z"
   },
   {
    "duration": 234,
    "start_time": "2022-09-05T08:27:09.018Z"
   },
   {
    "duration": 220,
    "start_time": "2022-09-05T08:27:09.253Z"
   }
  ],
  "kernelspec": {
   "display_name": "Python 3 (ipykernel)",
   "language": "python",
   "name": "python3"
  },
  "language_info": {
   "codemirror_mode": {
    "name": "ipython",
    "version": 3
   },
   "file_extension": ".py",
   "mimetype": "text/x-python",
   "name": "python",
   "nbconvert_exporter": "python",
   "pygments_lexer": "ipython3",
   "version": "3.9.5"
  },
  "toc": {
   "base_numbering": 1,
   "nav_menu": {},
   "number_sections": true,
   "sideBar": true,
   "skip_h1_title": true,
   "title_cell": "Table of Contents",
   "title_sidebar": "Contents",
   "toc_cell": false,
   "toc_position": {},
   "toc_section_display": true,
   "toc_window_display": false
  }
 },
 "nbformat": 4,
 "nbformat_minor": 2
}